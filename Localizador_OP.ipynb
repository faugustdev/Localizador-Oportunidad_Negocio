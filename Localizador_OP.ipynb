{
  "nbformat": 4,
  "nbformat_minor": 0,
  "metadata": {
    "colab": {
      "provenance": [],
      "authorship_tag": "ABX9TyNork7u/ta4e88zXQr4fRXF",
      "include_colab_link": true
    },
    "kernelspec": {
      "name": "python3",
      "display_name": "Python 3"
    },
    "language_info": {
      "name": "python"
    }
  },
  "cells": [
    {
      "cell_type": "markdown",
      "metadata": {
        "id": "view-in-github",
        "colab_type": "text"
      },
      "source": [
        "<a href=\"https://colab.research.google.com/github/rmanzi13/Localizador-Oportunidad_Negocio/blob/main/Localizador_OP.ipynb\" target=\"_parent\"><img src=\"https://colab.research.google.com/assets/colab-badge.svg\" alt=\"Open In Colab\"/></a>"
      ]
    },
    {
      "cell_type": "code",
      "execution_count": 46,
      "metadata": {
        "id": "e8EChWxgFqyv"
      },
      "outputs": [],
      "source": [
        "import pandas as pd"
      ]
    },
    {
      "cell_type": "code",
      "source": [
        "df_inmuebles = pd.read_csv('precio_inmueble_españa.csv')"
      ],
      "metadata": {
        "id": "4XozPe94q7U_"
      },
      "execution_count": 47,
      "outputs": []
    },
    {
      "cell_type": "code",
      "source": [
        "df_inmuebles.head()"
      ],
      "metadata": {
        "colab": {
          "base_uri": "https://localhost:8080/",
          "height": 206
        },
        "id": "_zhDcEcpG2nt",
        "outputId": "6de73a19-abbc-4be0-eb32-f7c09b37fe5f"
      },
      "execution_count": 48,
      "outputs": [
        {
          "output_type": "execute_result",
          "data": {
            "text/plain": [
              "                                     Área Geográfica  Metros Precio-Metro  \\\n",
              "0  \\r\\n\\t\\t\\t\\t\\t\\t\\tRinconada (Alcalá de Henares...   68 m2   1.250 €/m2   \n",
              "1  \\r\\n\\t\\t\\t\\t\\t\\t\\tSanta Eugenia (Madrid)\\r\\n\\t...   86 m2   2.302 €/m2   \n",
              "2  \\r\\n\\t\\t\\t\\t\\t\\t\\tEnsanche (Alcalá de Henares)...  275 m2   1.600 €/m2   \n",
              "3  \\r\\n\\t\\t\\t\\t\\t\\t\\tEnsanche (Alcalá de Henares)...  259 m2   1.486 €/m2   \n",
              "4  \\r\\n\\t\\t\\t\\t\\t\\t\\tPueblo Nuevo (Madrid)\\r\\n\\t\\...   85 m2   2.459 €/m2   \n",
              "\n",
              "  Ultima Actualizacion  \n",
              "0            hoy 14:06  \n",
              "1            hoy 14:04  \n",
              "2            hoy 13:56  \n",
              "3            hoy 13:54  \n",
              "4            hoy 13:52  "
            ],
            "text/html": [
              "\n",
              "  <div id=\"df-810aed58-f50f-4304-adab-d14be15e4609\" class=\"colab-df-container\">\n",
              "    <div>\n",
              "<style scoped>\n",
              "    .dataframe tbody tr th:only-of-type {\n",
              "        vertical-align: middle;\n",
              "    }\n",
              "\n",
              "    .dataframe tbody tr th {\n",
              "        vertical-align: top;\n",
              "    }\n",
              "\n",
              "    .dataframe thead th {\n",
              "        text-align: right;\n",
              "    }\n",
              "</style>\n",
              "<table border=\"1\" class=\"dataframe\">\n",
              "  <thead>\n",
              "    <tr style=\"text-align: right;\">\n",
              "      <th></th>\n",
              "      <th>Área Geográfica</th>\n",
              "      <th>Metros</th>\n",
              "      <th>Precio-Metro</th>\n",
              "      <th>Ultima Actualizacion</th>\n",
              "    </tr>\n",
              "  </thead>\n",
              "  <tbody>\n",
              "    <tr>\n",
              "      <th>0</th>\n",
              "      <td>\\r\\n\\t\\t\\t\\t\\t\\t\\tRinconada (Alcalá de Henares...</td>\n",
              "      <td>68 m2</td>\n",
              "      <td>1.250 €/m2</td>\n",
              "      <td>hoy 14:06</td>\n",
              "    </tr>\n",
              "    <tr>\n",
              "      <th>1</th>\n",
              "      <td>\\r\\n\\t\\t\\t\\t\\t\\t\\tSanta Eugenia (Madrid)\\r\\n\\t...</td>\n",
              "      <td>86 m2</td>\n",
              "      <td>2.302 €/m2</td>\n",
              "      <td>hoy 14:04</td>\n",
              "    </tr>\n",
              "    <tr>\n",
              "      <th>2</th>\n",
              "      <td>\\r\\n\\t\\t\\t\\t\\t\\t\\tEnsanche (Alcalá de Henares)...</td>\n",
              "      <td>275 m2</td>\n",
              "      <td>1.600 €/m2</td>\n",
              "      <td>hoy 13:56</td>\n",
              "    </tr>\n",
              "    <tr>\n",
              "      <th>3</th>\n",
              "      <td>\\r\\n\\t\\t\\t\\t\\t\\t\\tEnsanche (Alcalá de Henares)...</td>\n",
              "      <td>259 m2</td>\n",
              "      <td>1.486 €/m2</td>\n",
              "      <td>hoy 13:54</td>\n",
              "    </tr>\n",
              "    <tr>\n",
              "      <th>4</th>\n",
              "      <td>\\r\\n\\t\\t\\t\\t\\t\\t\\tPueblo Nuevo (Madrid)\\r\\n\\t\\...</td>\n",
              "      <td>85 m2</td>\n",
              "      <td>2.459 €/m2</td>\n",
              "      <td>hoy 13:52</td>\n",
              "    </tr>\n",
              "  </tbody>\n",
              "</table>\n",
              "</div>\n",
              "    <div class=\"colab-df-buttons\">\n",
              "\n",
              "  <div class=\"colab-df-container\">\n",
              "    <button class=\"colab-df-convert\" onclick=\"convertToInteractive('df-810aed58-f50f-4304-adab-d14be15e4609')\"\n",
              "            title=\"Convert this dataframe to an interactive table.\"\n",
              "            style=\"display:none;\">\n",
              "\n",
              "  <svg xmlns=\"http://www.w3.org/2000/svg\" height=\"24px\" viewBox=\"0 -960 960 960\">\n",
              "    <path d=\"M120-120v-720h720v720H120Zm60-500h600v-160H180v160Zm220 220h160v-160H400v160Zm0 220h160v-160H400v160ZM180-400h160v-160H180v160Zm440 0h160v-160H620v160ZM180-180h160v-160H180v160Zm440 0h160v-160H620v160Z\"/>\n",
              "  </svg>\n",
              "    </button>\n",
              "\n",
              "  <style>\n",
              "    .colab-df-container {\n",
              "      display:flex;\n",
              "      gap: 12px;\n",
              "    }\n",
              "\n",
              "    .colab-df-convert {\n",
              "      background-color: #E8F0FE;\n",
              "      border: none;\n",
              "      border-radius: 50%;\n",
              "      cursor: pointer;\n",
              "      display: none;\n",
              "      fill: #1967D2;\n",
              "      height: 32px;\n",
              "      padding: 0 0 0 0;\n",
              "      width: 32px;\n",
              "    }\n",
              "\n",
              "    .colab-df-convert:hover {\n",
              "      background-color: #E2EBFA;\n",
              "      box-shadow: 0px 1px 2px rgba(60, 64, 67, 0.3), 0px 1px 3px 1px rgba(60, 64, 67, 0.15);\n",
              "      fill: #174EA6;\n",
              "    }\n",
              "\n",
              "    .colab-df-buttons div {\n",
              "      margin-bottom: 4px;\n",
              "    }\n",
              "\n",
              "    [theme=dark] .colab-df-convert {\n",
              "      background-color: #3B4455;\n",
              "      fill: #D2E3FC;\n",
              "    }\n",
              "\n",
              "    [theme=dark] .colab-df-convert:hover {\n",
              "      background-color: #434B5C;\n",
              "      box-shadow: 0px 1px 3px 1px rgba(0, 0, 0, 0.15);\n",
              "      filter: drop-shadow(0px 1px 2px rgba(0, 0, 0, 0.3));\n",
              "      fill: #FFFFFF;\n",
              "    }\n",
              "  </style>\n",
              "\n",
              "    <script>\n",
              "      const buttonEl =\n",
              "        document.querySelector('#df-810aed58-f50f-4304-adab-d14be15e4609 button.colab-df-convert');\n",
              "      buttonEl.style.display =\n",
              "        google.colab.kernel.accessAllowed ? 'block' : 'none';\n",
              "\n",
              "      async function convertToInteractive(key) {\n",
              "        const element = document.querySelector('#df-810aed58-f50f-4304-adab-d14be15e4609');\n",
              "        const dataTable =\n",
              "          await google.colab.kernel.invokeFunction('convertToInteractive',\n",
              "                                                    [key], {});\n",
              "        if (!dataTable) return;\n",
              "\n",
              "        const docLinkHtml = 'Like what you see? Visit the ' +\n",
              "          '<a target=\"_blank\" href=https://colab.research.google.com/notebooks/data_table.ipynb>data table notebook</a>'\n",
              "          + ' to learn more about interactive tables.';\n",
              "        element.innerHTML = '';\n",
              "        dataTable['output_type'] = 'display_data';\n",
              "        await google.colab.output.renderOutput(dataTable, element);\n",
              "        const docLink = document.createElement('div');\n",
              "        docLink.innerHTML = docLinkHtml;\n",
              "        element.appendChild(docLink);\n",
              "      }\n",
              "    </script>\n",
              "  </div>\n",
              "\n",
              "\n",
              "<div id=\"df-2018761b-81aa-4cf5-acd6-ff5e8633f8e7\">\n",
              "  <button class=\"colab-df-quickchart\" onclick=\"quickchart('df-2018761b-81aa-4cf5-acd6-ff5e8633f8e7')\"\n",
              "            title=\"Suggest charts\"\n",
              "            style=\"display:none;\">\n",
              "\n",
              "<svg xmlns=\"http://www.w3.org/2000/svg\" height=\"24px\"viewBox=\"0 0 24 24\"\n",
              "     width=\"24px\">\n",
              "    <g>\n",
              "        <path d=\"M19 3H5c-1.1 0-2 .9-2 2v14c0 1.1.9 2 2 2h14c1.1 0 2-.9 2-2V5c0-1.1-.9-2-2-2zM9 17H7v-7h2v7zm4 0h-2V7h2v10zm4 0h-2v-4h2v4z\"/>\n",
              "    </g>\n",
              "</svg>\n",
              "  </button>\n",
              "\n",
              "<style>\n",
              "  .colab-df-quickchart {\n",
              "      --bg-color: #E8F0FE;\n",
              "      --fill-color: #1967D2;\n",
              "      --hover-bg-color: #E2EBFA;\n",
              "      --hover-fill-color: #174EA6;\n",
              "      --disabled-fill-color: #AAA;\n",
              "      --disabled-bg-color: #DDD;\n",
              "  }\n",
              "\n",
              "  [theme=dark] .colab-df-quickchart {\n",
              "      --bg-color: #3B4455;\n",
              "      --fill-color: #D2E3FC;\n",
              "      --hover-bg-color: #434B5C;\n",
              "      --hover-fill-color: #FFFFFF;\n",
              "      --disabled-bg-color: #3B4455;\n",
              "      --disabled-fill-color: #666;\n",
              "  }\n",
              "\n",
              "  .colab-df-quickchart {\n",
              "    background-color: var(--bg-color);\n",
              "    border: none;\n",
              "    border-radius: 50%;\n",
              "    cursor: pointer;\n",
              "    display: none;\n",
              "    fill: var(--fill-color);\n",
              "    height: 32px;\n",
              "    padding: 0;\n",
              "    width: 32px;\n",
              "  }\n",
              "\n",
              "  .colab-df-quickchart:hover {\n",
              "    background-color: var(--hover-bg-color);\n",
              "    box-shadow: 0 1px 2px rgba(60, 64, 67, 0.3), 0 1px 3px 1px rgba(60, 64, 67, 0.15);\n",
              "    fill: var(--button-hover-fill-color);\n",
              "  }\n",
              "\n",
              "  .colab-df-quickchart-complete:disabled,\n",
              "  .colab-df-quickchart-complete:disabled:hover {\n",
              "    background-color: var(--disabled-bg-color);\n",
              "    fill: var(--disabled-fill-color);\n",
              "    box-shadow: none;\n",
              "  }\n",
              "\n",
              "  .colab-df-spinner {\n",
              "    border: 2px solid var(--fill-color);\n",
              "    border-color: transparent;\n",
              "    border-bottom-color: var(--fill-color);\n",
              "    animation:\n",
              "      spin 1s steps(1) infinite;\n",
              "  }\n",
              "\n",
              "  @keyframes spin {\n",
              "    0% {\n",
              "      border-color: transparent;\n",
              "      border-bottom-color: var(--fill-color);\n",
              "      border-left-color: var(--fill-color);\n",
              "    }\n",
              "    20% {\n",
              "      border-color: transparent;\n",
              "      border-left-color: var(--fill-color);\n",
              "      border-top-color: var(--fill-color);\n",
              "    }\n",
              "    30% {\n",
              "      border-color: transparent;\n",
              "      border-left-color: var(--fill-color);\n",
              "      border-top-color: var(--fill-color);\n",
              "      border-right-color: var(--fill-color);\n",
              "    }\n",
              "    40% {\n",
              "      border-color: transparent;\n",
              "      border-right-color: var(--fill-color);\n",
              "      border-top-color: var(--fill-color);\n",
              "    }\n",
              "    60% {\n",
              "      border-color: transparent;\n",
              "      border-right-color: var(--fill-color);\n",
              "    }\n",
              "    80% {\n",
              "      border-color: transparent;\n",
              "      border-right-color: var(--fill-color);\n",
              "      border-bottom-color: var(--fill-color);\n",
              "    }\n",
              "    90% {\n",
              "      border-color: transparent;\n",
              "      border-bottom-color: var(--fill-color);\n",
              "    }\n",
              "  }\n",
              "</style>\n",
              "\n",
              "  <script>\n",
              "    async function quickchart(key) {\n",
              "      const quickchartButtonEl =\n",
              "        document.querySelector('#' + key + ' button');\n",
              "      quickchartButtonEl.disabled = true;  // To prevent multiple clicks.\n",
              "      quickchartButtonEl.classList.add('colab-df-spinner');\n",
              "      try {\n",
              "        const charts = await google.colab.kernel.invokeFunction(\n",
              "            'suggestCharts', [key], {});\n",
              "      } catch (error) {\n",
              "        console.error('Error during call to suggestCharts:', error);\n",
              "      }\n",
              "      quickchartButtonEl.classList.remove('colab-df-spinner');\n",
              "      quickchartButtonEl.classList.add('colab-df-quickchart-complete');\n",
              "    }\n",
              "    (() => {\n",
              "      let quickchartButtonEl =\n",
              "        document.querySelector('#df-2018761b-81aa-4cf5-acd6-ff5e8633f8e7 button');\n",
              "      quickchartButtonEl.style.display =\n",
              "        google.colab.kernel.accessAllowed ? 'block' : 'none';\n",
              "    })();\n",
              "  </script>\n",
              "</div>\n",
              "    </div>\n",
              "  </div>\n"
            ]
          },
          "metadata": {},
          "execution_count": 48
        }
      ]
    },
    {
      "cell_type": "code",
      "source": [
        "# Buscamos nulos\n",
        "nulos = df_inmuebles.isnull().sum()\n",
        "print(nulos)"
      ],
      "metadata": {
        "colab": {
          "base_uri": "https://localhost:8080/"
        },
        "id": "T_GndEajHUPo",
        "outputId": "9533219a-0536-44dc-be18-8f01c4fcf0e0"
      },
      "execution_count": 49,
      "outputs": [
        {
          "output_type": "stream",
          "name": "stdout",
          "text": [
            "Área Geográfica         0\n",
            "Metros                  0\n",
            "Precio-Metro            0\n",
            "Ultima Actualizacion    0\n",
            "dtype: int64\n"
          ]
        }
      ]
    },
    {
      "cell_type": "code",
      "source": [
        "# Cambiamos el nombre de la Columna 'Áres Goegráfica'\n",
        "df_inmuebles.rename(columns={'Área Geográfica':'Ubicacion'}, inplace = True)"
      ],
      "metadata": {
        "id": "cnDbhsFxI4Nl"
      },
      "execution_count": 50,
      "outputs": []
    },
    {
      "cell_type": "code",
      "source": [
        "df_inmuebles.head(1)"
      ],
      "metadata": {
        "colab": {
          "base_uri": "https://localhost:8080/",
          "height": 81
        },
        "id": "Oh_7s5f6JsD1",
        "outputId": "8b0dcbc9-284f-4a8b-c74a-4e70efb3622c"
      },
      "execution_count": 51,
      "outputs": [
        {
          "output_type": "execute_result",
          "data": {
            "text/plain": [
              "                                           Ubicacion Metros Precio-Metro  \\\n",
              "0  \\r\\n\\t\\t\\t\\t\\t\\t\\tRinconada (Alcalá de Henares...  68 m2   1.250 €/m2   \n",
              "\n",
              "  Ultima Actualizacion  \n",
              "0            hoy 14:06  "
            ],
            "text/html": [
              "\n",
              "  <div id=\"df-3fafa912-9cd9-41de-9eed-5d35435f66ed\" class=\"colab-df-container\">\n",
              "    <div>\n",
              "<style scoped>\n",
              "    .dataframe tbody tr th:only-of-type {\n",
              "        vertical-align: middle;\n",
              "    }\n",
              "\n",
              "    .dataframe tbody tr th {\n",
              "        vertical-align: top;\n",
              "    }\n",
              "\n",
              "    .dataframe thead th {\n",
              "        text-align: right;\n",
              "    }\n",
              "</style>\n",
              "<table border=\"1\" class=\"dataframe\">\n",
              "  <thead>\n",
              "    <tr style=\"text-align: right;\">\n",
              "      <th></th>\n",
              "      <th>Ubicacion</th>\n",
              "      <th>Metros</th>\n",
              "      <th>Precio-Metro</th>\n",
              "      <th>Ultima Actualizacion</th>\n",
              "    </tr>\n",
              "  </thead>\n",
              "  <tbody>\n",
              "    <tr>\n",
              "      <th>0</th>\n",
              "      <td>\\r\\n\\t\\t\\t\\t\\t\\t\\tRinconada (Alcalá de Henares...</td>\n",
              "      <td>68 m2</td>\n",
              "      <td>1.250 €/m2</td>\n",
              "      <td>hoy 14:06</td>\n",
              "    </tr>\n",
              "  </tbody>\n",
              "</table>\n",
              "</div>\n",
              "    <div class=\"colab-df-buttons\">\n",
              "\n",
              "  <div class=\"colab-df-container\">\n",
              "    <button class=\"colab-df-convert\" onclick=\"convertToInteractive('df-3fafa912-9cd9-41de-9eed-5d35435f66ed')\"\n",
              "            title=\"Convert this dataframe to an interactive table.\"\n",
              "            style=\"display:none;\">\n",
              "\n",
              "  <svg xmlns=\"http://www.w3.org/2000/svg\" height=\"24px\" viewBox=\"0 -960 960 960\">\n",
              "    <path d=\"M120-120v-720h720v720H120Zm60-500h600v-160H180v160Zm220 220h160v-160H400v160Zm0 220h160v-160H400v160ZM180-400h160v-160H180v160Zm440 0h160v-160H620v160ZM180-180h160v-160H180v160Zm440 0h160v-160H620v160Z\"/>\n",
              "  </svg>\n",
              "    </button>\n",
              "\n",
              "  <style>\n",
              "    .colab-df-container {\n",
              "      display:flex;\n",
              "      gap: 12px;\n",
              "    }\n",
              "\n",
              "    .colab-df-convert {\n",
              "      background-color: #E8F0FE;\n",
              "      border: none;\n",
              "      border-radius: 50%;\n",
              "      cursor: pointer;\n",
              "      display: none;\n",
              "      fill: #1967D2;\n",
              "      height: 32px;\n",
              "      padding: 0 0 0 0;\n",
              "      width: 32px;\n",
              "    }\n",
              "\n",
              "    .colab-df-convert:hover {\n",
              "      background-color: #E2EBFA;\n",
              "      box-shadow: 0px 1px 2px rgba(60, 64, 67, 0.3), 0px 1px 3px 1px rgba(60, 64, 67, 0.15);\n",
              "      fill: #174EA6;\n",
              "    }\n",
              "\n",
              "    .colab-df-buttons div {\n",
              "      margin-bottom: 4px;\n",
              "    }\n",
              "\n",
              "    [theme=dark] .colab-df-convert {\n",
              "      background-color: #3B4455;\n",
              "      fill: #D2E3FC;\n",
              "    }\n",
              "\n",
              "    [theme=dark] .colab-df-convert:hover {\n",
              "      background-color: #434B5C;\n",
              "      box-shadow: 0px 1px 3px 1px rgba(0, 0, 0, 0.15);\n",
              "      filter: drop-shadow(0px 1px 2px rgba(0, 0, 0, 0.3));\n",
              "      fill: #FFFFFF;\n",
              "    }\n",
              "  </style>\n",
              "\n",
              "    <script>\n",
              "      const buttonEl =\n",
              "        document.querySelector('#df-3fafa912-9cd9-41de-9eed-5d35435f66ed button.colab-df-convert');\n",
              "      buttonEl.style.display =\n",
              "        google.colab.kernel.accessAllowed ? 'block' : 'none';\n",
              "\n",
              "      async function convertToInteractive(key) {\n",
              "        const element = document.querySelector('#df-3fafa912-9cd9-41de-9eed-5d35435f66ed');\n",
              "        const dataTable =\n",
              "          await google.colab.kernel.invokeFunction('convertToInteractive',\n",
              "                                                    [key], {});\n",
              "        if (!dataTable) return;\n",
              "\n",
              "        const docLinkHtml = 'Like what you see? Visit the ' +\n",
              "          '<a target=\"_blank\" href=https://colab.research.google.com/notebooks/data_table.ipynb>data table notebook</a>'\n",
              "          + ' to learn more about interactive tables.';\n",
              "        element.innerHTML = '';\n",
              "        dataTable['output_type'] = 'display_data';\n",
              "        await google.colab.output.renderOutput(dataTable, element);\n",
              "        const docLink = document.createElement('div');\n",
              "        docLink.innerHTML = docLinkHtml;\n",
              "        element.appendChild(docLink);\n",
              "      }\n",
              "    </script>\n",
              "  </div>\n",
              "\n",
              "    </div>\n",
              "  </div>\n"
            ]
          },
          "metadata": {},
          "execution_count": 51
        }
      ]
    },
    {
      "cell_type": "code",
      "source": [
        "# Eliminamos caracteres de columna 'Ubicacion'\n",
        "df_inmuebles['Ubicacion'] = df_inmuebles['Ubicacion'].str.replace(r'\\r|\\n|\\t', '', regex = True).str.strip()"
      ],
      "metadata": {
        "id": "cgUXg9EGLXTd"
      },
      "execution_count": 52,
      "outputs": []
    },
    {
      "cell_type": "code",
      "source": [
        "df_inmuebles.head(200)"
      ],
      "metadata": {
        "id": "3ztQjFG-QcR3"
      },
      "execution_count": null,
      "outputs": []
    },
    {
      "cell_type": "code",
      "source": [
        "# Elimino algunos indices de precio-metro que me crean conflictos al convertir datos\n",
        "indices_to_remove = [14, 62, 175, 193]\n",
        "\n",
        "# Drop rows with specified indices\n",
        "df_inmuebles.drop(indices_to_remove, inplace=True)"
      ],
      "metadata": {
        "id": "u6xqRh31MhIZ"
      },
      "execution_count": 53,
      "outputs": []
    },
    {
      "cell_type": "code",
      "source": [
        "# Reseteo los índices del DataFrame\n",
        "df_inmuebles = df_inmuebles.reset_index(drop=True)\n",
        "\n",
        "# Imprimo el DataFrame con los nuevos índices\n",
        "print(df_inmuebles)\n"
      ],
      "metadata": {
        "colab": {
          "base_uri": "https://localhost:8080/"
        },
        "id": "33zgG7gQNQMG",
        "outputId": "4ea648fa-b87f-4dbd-b2f8-a136d2be7497"
      },
      "execution_count": 54,
      "outputs": [
        {
          "output_type": "stream",
          "name": "stdout",
          "text": [
            "                                             Ubicacion  Metros Precio-Metro  \\\n",
            "0                        Rinconada (Alcalá de Henares)   68 m2   1.250 €/m2   \n",
            "1                               Santa Eugenia (Madrid)   86 m2   2.302 €/m2   \n",
            "2                         Ensanche (Alcalá de Henares)  275 m2   1.600 €/m2   \n",
            "3                         Ensanche (Alcalá de Henares)  259 m2   1.486 €/m2   \n",
            "4                                Pueblo Nuevo (Madrid)   85 m2   2.459 €/m2   \n",
            "..                                                 ...     ...          ...   \n",
            "191                                          Galapagar  506 m2   1.136 €/m2   \n",
            "192                                      Goya (Madrid)   84 m2   6.905 €/m2   \n",
            "193                                    Villa del Prado  229 m2   1.004 €/m2   \n",
            "194                                       Sol (Madrid)  108 m2   3.694 €/m2   \n",
            "195  Las Retamas, Prado Santo Domingo, Ensanche Sur...  103 m2   3.458 €/m2   \n",
            "\n",
            "    Ultima Actualizacion  \n",
            "0              hoy 14:06  \n",
            "1              hoy 14:04  \n",
            "2              hoy 13:56  \n",
            "3              hoy 13:54  \n",
            "4              hoy 13:52  \n",
            "..                   ...  \n",
            "191            hoy 11:53  \n",
            "192            hoy 11:53  \n",
            "193            hoy 11:52  \n",
            "194            hoy 11:52  \n",
            "195            hoy 11:52  \n",
            "\n",
            "[196 rows x 4 columns]\n"
          ]
        }
      ]
    },
    {
      "cell_type": "code",
      "source": [
        "# Convertimos columna 'Metro', 'Precio-Metro' a numérico\n",
        "df_inmuebles['Metros'] = pd.to_numeric(df_inmuebles['Metros'].str.extract('(\\d+(\\.\\d+)?)')[0], errors='coerce')"
      ],
      "metadata": {
        "id": "SykaUxDhcdF9"
      },
      "execution_count": 55,
      "outputs": []
    },
    {
      "cell_type": "code",
      "source": [
        "# Extraemos números con decimales y comas\n",
        "df_inmuebles['Precio-Metro'] = pd.to_numeric(df_inmuebles['Precio-Metro'].str.extract('([\\d,]+(\\.\\d+)?)')[0].str.replace(',', '.', regex=True), errors='coerce')"
      ],
      "metadata": {
        "id": "wsLpL8gAYw4G"
      },
      "execution_count": 56,
      "outputs": []
    },
    {
      "cell_type": "code",
      "source": [
        "# Imprimo resultados\n",
        "print(df_inmuebles[['Precio-Metro']])"
      ],
      "metadata": {
        "colab": {
          "base_uri": "https://localhost:8080/"
        },
        "id": "1pXEpJI_Yzgd",
        "outputId": "81b40963-5af8-4a0a-e92e-9a7c275eb13e"
      },
      "execution_count": 57,
      "outputs": [
        {
          "output_type": "stream",
          "name": "stdout",
          "text": [
            "     Precio-Metro\n",
            "0           1.250\n",
            "1           2.302\n",
            "2           1.600\n",
            "3           1.486\n",
            "4           2.459\n",
            "..            ...\n",
            "191         1.136\n",
            "192         6.905\n",
            "193         1.004\n",
            "194         3.694\n",
            "195         3.458\n",
            "\n",
            "[196 rows x 1 columns]\n"
          ]
        }
      ]
    },
    {
      "cell_type": "code",
      "source": [
        "df_inmuebles.describe()"
      ],
      "metadata": {
        "colab": {
          "base_uri": "https://localhost:8080/",
          "height": 300
        },
        "id": "RTBo8-msV4tf",
        "outputId": "8445e646-f60f-4af7-a9f2-7aed8db0c98c"
      },
      "execution_count": 58,
      "outputs": [
        {
          "output_type": "execute_result",
          "data": {
            "text/plain": [
              "            Metros  Precio-Metro\n",
              "count   196.000000    196.000000\n",
              "mean    255.214286      3.298577\n",
              "std     250.871742      1.601571\n",
              "min      30.000000      1.004000\n",
              "25%      86.000000      2.150500\n",
              "50%     138.500000      3.022500\n",
              "75%     326.750000      4.376250\n",
              "max    1400.000000      9.490000"
            ],
            "text/html": [
              "\n",
              "  <div id=\"df-c17f38f0-f5a5-4147-93a8-02f2cfb3e0ee\" class=\"colab-df-container\">\n",
              "    <div>\n",
              "<style scoped>\n",
              "    .dataframe tbody tr th:only-of-type {\n",
              "        vertical-align: middle;\n",
              "    }\n",
              "\n",
              "    .dataframe tbody tr th {\n",
              "        vertical-align: top;\n",
              "    }\n",
              "\n",
              "    .dataframe thead th {\n",
              "        text-align: right;\n",
              "    }\n",
              "</style>\n",
              "<table border=\"1\" class=\"dataframe\">\n",
              "  <thead>\n",
              "    <tr style=\"text-align: right;\">\n",
              "      <th></th>\n",
              "      <th>Metros</th>\n",
              "      <th>Precio-Metro</th>\n",
              "    </tr>\n",
              "  </thead>\n",
              "  <tbody>\n",
              "    <tr>\n",
              "      <th>count</th>\n",
              "      <td>196.000000</td>\n",
              "      <td>196.000000</td>\n",
              "    </tr>\n",
              "    <tr>\n",
              "      <th>mean</th>\n",
              "      <td>255.214286</td>\n",
              "      <td>3.298577</td>\n",
              "    </tr>\n",
              "    <tr>\n",
              "      <th>std</th>\n",
              "      <td>250.871742</td>\n",
              "      <td>1.601571</td>\n",
              "    </tr>\n",
              "    <tr>\n",
              "      <th>min</th>\n",
              "      <td>30.000000</td>\n",
              "      <td>1.004000</td>\n",
              "    </tr>\n",
              "    <tr>\n",
              "      <th>25%</th>\n",
              "      <td>86.000000</td>\n",
              "      <td>2.150500</td>\n",
              "    </tr>\n",
              "    <tr>\n",
              "      <th>50%</th>\n",
              "      <td>138.500000</td>\n",
              "      <td>3.022500</td>\n",
              "    </tr>\n",
              "    <tr>\n",
              "      <th>75%</th>\n",
              "      <td>326.750000</td>\n",
              "      <td>4.376250</td>\n",
              "    </tr>\n",
              "    <tr>\n",
              "      <th>max</th>\n",
              "      <td>1400.000000</td>\n",
              "      <td>9.490000</td>\n",
              "    </tr>\n",
              "  </tbody>\n",
              "</table>\n",
              "</div>\n",
              "    <div class=\"colab-df-buttons\">\n",
              "\n",
              "  <div class=\"colab-df-container\">\n",
              "    <button class=\"colab-df-convert\" onclick=\"convertToInteractive('df-c17f38f0-f5a5-4147-93a8-02f2cfb3e0ee')\"\n",
              "            title=\"Convert this dataframe to an interactive table.\"\n",
              "            style=\"display:none;\">\n",
              "\n",
              "  <svg xmlns=\"http://www.w3.org/2000/svg\" height=\"24px\" viewBox=\"0 -960 960 960\">\n",
              "    <path d=\"M120-120v-720h720v720H120Zm60-500h600v-160H180v160Zm220 220h160v-160H400v160Zm0 220h160v-160H400v160ZM180-400h160v-160H180v160Zm440 0h160v-160H620v160ZM180-180h160v-160H180v160Zm440 0h160v-160H620v160Z\"/>\n",
              "  </svg>\n",
              "    </button>\n",
              "\n",
              "  <style>\n",
              "    .colab-df-container {\n",
              "      display:flex;\n",
              "      gap: 12px;\n",
              "    }\n",
              "\n",
              "    .colab-df-convert {\n",
              "      background-color: #E8F0FE;\n",
              "      border: none;\n",
              "      border-radius: 50%;\n",
              "      cursor: pointer;\n",
              "      display: none;\n",
              "      fill: #1967D2;\n",
              "      height: 32px;\n",
              "      padding: 0 0 0 0;\n",
              "      width: 32px;\n",
              "    }\n",
              "\n",
              "    .colab-df-convert:hover {\n",
              "      background-color: #E2EBFA;\n",
              "      box-shadow: 0px 1px 2px rgba(60, 64, 67, 0.3), 0px 1px 3px 1px rgba(60, 64, 67, 0.15);\n",
              "      fill: #174EA6;\n",
              "    }\n",
              "\n",
              "    .colab-df-buttons div {\n",
              "      margin-bottom: 4px;\n",
              "    }\n",
              "\n",
              "    [theme=dark] .colab-df-convert {\n",
              "      background-color: #3B4455;\n",
              "      fill: #D2E3FC;\n",
              "    }\n",
              "\n",
              "    [theme=dark] .colab-df-convert:hover {\n",
              "      background-color: #434B5C;\n",
              "      box-shadow: 0px 1px 3px 1px rgba(0, 0, 0, 0.15);\n",
              "      filter: drop-shadow(0px 1px 2px rgba(0, 0, 0, 0.3));\n",
              "      fill: #FFFFFF;\n",
              "    }\n",
              "  </style>\n",
              "\n",
              "    <script>\n",
              "      const buttonEl =\n",
              "        document.querySelector('#df-c17f38f0-f5a5-4147-93a8-02f2cfb3e0ee button.colab-df-convert');\n",
              "      buttonEl.style.display =\n",
              "        google.colab.kernel.accessAllowed ? 'block' : 'none';\n",
              "\n",
              "      async function convertToInteractive(key) {\n",
              "        const element = document.querySelector('#df-c17f38f0-f5a5-4147-93a8-02f2cfb3e0ee');\n",
              "        const dataTable =\n",
              "          await google.colab.kernel.invokeFunction('convertToInteractive',\n",
              "                                                    [key], {});\n",
              "        if (!dataTable) return;\n",
              "\n",
              "        const docLinkHtml = 'Like what you see? Visit the ' +\n",
              "          '<a target=\"_blank\" href=https://colab.research.google.com/notebooks/data_table.ipynb>data table notebook</a>'\n",
              "          + ' to learn more about interactive tables.';\n",
              "        element.innerHTML = '';\n",
              "        dataTable['output_type'] = 'display_data';\n",
              "        await google.colab.output.renderOutput(dataTable, element);\n",
              "        const docLink = document.createElement('div');\n",
              "        docLink.innerHTML = docLinkHtml;\n",
              "        element.appendChild(docLink);\n",
              "      }\n",
              "    </script>\n",
              "  </div>\n",
              "\n",
              "\n",
              "<div id=\"df-511d3090-1178-462b-a6c1-4e834fd91647\">\n",
              "  <button class=\"colab-df-quickchart\" onclick=\"quickchart('df-511d3090-1178-462b-a6c1-4e834fd91647')\"\n",
              "            title=\"Suggest charts\"\n",
              "            style=\"display:none;\">\n",
              "\n",
              "<svg xmlns=\"http://www.w3.org/2000/svg\" height=\"24px\"viewBox=\"0 0 24 24\"\n",
              "     width=\"24px\">\n",
              "    <g>\n",
              "        <path d=\"M19 3H5c-1.1 0-2 .9-2 2v14c0 1.1.9 2 2 2h14c1.1 0 2-.9 2-2V5c0-1.1-.9-2-2-2zM9 17H7v-7h2v7zm4 0h-2V7h2v10zm4 0h-2v-4h2v4z\"/>\n",
              "    </g>\n",
              "</svg>\n",
              "  </button>\n",
              "\n",
              "<style>\n",
              "  .colab-df-quickchart {\n",
              "      --bg-color: #E8F0FE;\n",
              "      --fill-color: #1967D2;\n",
              "      --hover-bg-color: #E2EBFA;\n",
              "      --hover-fill-color: #174EA6;\n",
              "      --disabled-fill-color: #AAA;\n",
              "      --disabled-bg-color: #DDD;\n",
              "  }\n",
              "\n",
              "  [theme=dark] .colab-df-quickchart {\n",
              "      --bg-color: #3B4455;\n",
              "      --fill-color: #D2E3FC;\n",
              "      --hover-bg-color: #434B5C;\n",
              "      --hover-fill-color: #FFFFFF;\n",
              "      --disabled-bg-color: #3B4455;\n",
              "      --disabled-fill-color: #666;\n",
              "  }\n",
              "\n",
              "  .colab-df-quickchart {\n",
              "    background-color: var(--bg-color);\n",
              "    border: none;\n",
              "    border-radius: 50%;\n",
              "    cursor: pointer;\n",
              "    display: none;\n",
              "    fill: var(--fill-color);\n",
              "    height: 32px;\n",
              "    padding: 0;\n",
              "    width: 32px;\n",
              "  }\n",
              "\n",
              "  .colab-df-quickchart:hover {\n",
              "    background-color: var(--hover-bg-color);\n",
              "    box-shadow: 0 1px 2px rgba(60, 64, 67, 0.3), 0 1px 3px 1px rgba(60, 64, 67, 0.15);\n",
              "    fill: var(--button-hover-fill-color);\n",
              "  }\n",
              "\n",
              "  .colab-df-quickchart-complete:disabled,\n",
              "  .colab-df-quickchart-complete:disabled:hover {\n",
              "    background-color: var(--disabled-bg-color);\n",
              "    fill: var(--disabled-fill-color);\n",
              "    box-shadow: none;\n",
              "  }\n",
              "\n",
              "  .colab-df-spinner {\n",
              "    border: 2px solid var(--fill-color);\n",
              "    border-color: transparent;\n",
              "    border-bottom-color: var(--fill-color);\n",
              "    animation:\n",
              "      spin 1s steps(1) infinite;\n",
              "  }\n",
              "\n",
              "  @keyframes spin {\n",
              "    0% {\n",
              "      border-color: transparent;\n",
              "      border-bottom-color: var(--fill-color);\n",
              "      border-left-color: var(--fill-color);\n",
              "    }\n",
              "    20% {\n",
              "      border-color: transparent;\n",
              "      border-left-color: var(--fill-color);\n",
              "      border-top-color: var(--fill-color);\n",
              "    }\n",
              "    30% {\n",
              "      border-color: transparent;\n",
              "      border-left-color: var(--fill-color);\n",
              "      border-top-color: var(--fill-color);\n",
              "      border-right-color: var(--fill-color);\n",
              "    }\n",
              "    40% {\n",
              "      border-color: transparent;\n",
              "      border-right-color: var(--fill-color);\n",
              "      border-top-color: var(--fill-color);\n",
              "    }\n",
              "    60% {\n",
              "      border-color: transparent;\n",
              "      border-right-color: var(--fill-color);\n",
              "    }\n",
              "    80% {\n",
              "      border-color: transparent;\n",
              "      border-right-color: var(--fill-color);\n",
              "      border-bottom-color: var(--fill-color);\n",
              "    }\n",
              "    90% {\n",
              "      border-color: transparent;\n",
              "      border-bottom-color: var(--fill-color);\n",
              "    }\n",
              "  }\n",
              "</style>\n",
              "\n",
              "  <script>\n",
              "    async function quickchart(key) {\n",
              "      const quickchartButtonEl =\n",
              "        document.querySelector('#' + key + ' button');\n",
              "      quickchartButtonEl.disabled = true;  // To prevent multiple clicks.\n",
              "      quickchartButtonEl.classList.add('colab-df-spinner');\n",
              "      try {\n",
              "        const charts = await google.colab.kernel.invokeFunction(\n",
              "            'suggestCharts', [key], {});\n",
              "      } catch (error) {\n",
              "        console.error('Error during call to suggestCharts:', error);\n",
              "      }\n",
              "      quickchartButtonEl.classList.remove('colab-df-spinner');\n",
              "      quickchartButtonEl.classList.add('colab-df-quickchart-complete');\n",
              "    }\n",
              "    (() => {\n",
              "      let quickchartButtonEl =\n",
              "        document.querySelector('#df-511d3090-1178-462b-a6c1-4e834fd91647 button');\n",
              "      quickchartButtonEl.style.display =\n",
              "        google.colab.kernel.accessAllowed ? 'block' : 'none';\n",
              "    })();\n",
              "  </script>\n",
              "</div>\n",
              "    </div>\n",
              "  </div>\n"
            ]
          },
          "metadata": {},
          "execution_count": 58
        }
      ]
    },
    {
      "cell_type": "code",
      "source": [
        "# Encuentra los valores máximos y mínimos para la columna 'Metros'\n",
        "max_metros = df_inmuebles['Metros'].max()\n",
        "min_metros = df_inmuebles['Metros'].min()\n",
        "\n",
        "# Encuentra los valores máximos y mínimos para la columna 'Precio-Metro'\n",
        "max_precio_metro = df_inmuebles['Precio-Metro'].max()\n",
        "min_precio_metro = df_inmuebles['Precio-Metro'].min()\n",
        "\n",
        "# Imprime los resultados\n",
        "print(f'Metros - Máximo: {max_metros}, Mínimo: {min_metros}')\n",
        "print(f'Precio-Metro - Máximo: {max_precio_metro}, Mínimo: {min_precio_metro}')\n"
      ],
      "metadata": {
        "id": "1MqqcI4Ra-S4"
      },
      "execution_count": null,
      "outputs": []
    },
    {
      "cell_type": "code",
      "source": [
        "df_inmuebles.isnull().sum()"
      ],
      "metadata": {
        "colab": {
          "base_uri": "https://localhost:8080/"
        },
        "id": "o2TzV7OrPHze",
        "outputId": "43bb6623-44d3-4b16-b339-1341aca429a0"
      },
      "execution_count": 60,
      "outputs": [
        {
          "output_type": "execute_result",
          "data": {
            "text/plain": [
              "Ubicacion               0\n",
              "Metros                  0\n",
              "Precio-Metro            0\n",
              "Ultima Actualizacion    0\n",
              "dtype: int64"
            ]
          },
          "metadata": {},
          "execution_count": 60
        }
      ]
    },
    {
      "cell_type": "code",
      "source": [],
      "metadata": {
        "id": "wwkw4xSCqyrG"
      },
      "execution_count": null,
      "outputs": []
    },
    {
      "cell_type": "markdown",
      "source": [
        "## Reemplazo de Nombres en variable 'Ubicación'"
      ],
      "metadata": {
        "id": "OouXUbVOq7Qm"
      }
    },
    {
      "cell_type": "code",
      "source": [
        "df_inmuebles['Ubicacion'] = df_inmuebles['Ubicacion'].replace('Rinconada (Alcalá de Henares)', 'Alcala de Henares')"
      ],
      "metadata": {
        "id": "d1fQGu7z9FQV"
      },
      "execution_count": 61,
      "outputs": []
    },
    {
      "cell_type": "code",
      "source": [
        "df_inmuebles['Ubicacion'] = df_inmuebles['Ubicacion'].replace('Santa Eugenia (Madrid)', 'Villa de Vallecas')"
      ],
      "metadata": {
        "id": "LucSWkiT9xMU"
      },
      "execution_count": 62,
      "outputs": []
    },
    {
      "cell_type": "code",
      "source": [
        "df_inmuebles['Ubicacion'] = df_inmuebles['Ubicacion'].replace('Ensanche (Alcalá de Henares)', 'Alcala de Henares')"
      ],
      "metadata": {
        "id": "Z_PU361k-l_y"
      },
      "execution_count": 63,
      "outputs": []
    },
    {
      "cell_type": "code",
      "source": [
        "df_inmuebles['Ubicacion'] = df_inmuebles['Ubicacion'].replace('Pueblo Nuevo (Madrid)', 'Pueblo Nuevo')"
      ],
      "metadata": {
        "id": "iCCF88Cf9wue"
      },
      "execution_count": 64,
      "outputs": []
    },
    {
      "cell_type": "code",
      "source": [
        "df_inmuebles['Ubicacion'] = df_inmuebles['Ubicacion'].replace('Fuente del Berro (Madrid)', 'Salamanca')"
      ],
      "metadata": {
        "id": "6icWMsny-nxs"
      },
      "execution_count": 65,
      "outputs": []
    },
    {
      "cell_type": "code",
      "source": [
        "df_inmuebles['Ubicacion'] = df_inmuebles['Ubicacion'].replace('Rivas-VaciaMadrid, Covibar', 'Rivas-VaciaMadrid')"
      ],
      "metadata": {
        "id": "IgWJO3aU-nvi"
      },
      "execution_count": 66,
      "outputs": []
    },
    {
      "cell_type": "code",
      "source": [
        "df_inmuebles['Ubicacion'] = df_inmuebles['Ubicacion'].replace('Rivas-VaciaMadrid, Paseo de las Provincias', 'Rivas-VaciaMadrid')"
      ],
      "metadata": {
        "id": "KJYA5T6W-nrs"
      },
      "execution_count": 67,
      "outputs": []
    },
    {
      "cell_type": "code",
      "source": [
        "df_inmuebles['Ubicacion'] = df_inmuebles['Ubicacion'].replace('Pavones (Madrid)', 'Pavones')"
      ],
      "metadata": {
        "id": "cKc_PllZ-nke"
      },
      "execution_count": 68,
      "outputs": []
    },
    {
      "cell_type": "code",
      "source": [
        "df_inmuebles['Ubicacion'] = df_inmuebles['Ubicacion'].replace('Castillejos (Madrid)', 'Tetuán')"
      ],
      "metadata": {
        "id": "PIQa-cSc-nfT"
      },
      "execution_count": 69,
      "outputs": []
    },
    {
      "cell_type": "code",
      "source": [
        "df_inmuebles['Ubicacion'] = df_inmuebles['Ubicacion'].str.strip().replace('Pinto, Parque  Europa', 'Torrejón de Ardoz')"
      ],
      "metadata": {
        "id": "0x9kG4TKB73g"
      },
      "execution_count": 70,
      "outputs": []
    },
    {
      "cell_type": "code",
      "source": [
        "df_inmuebles['Ubicacion'] = df_inmuebles['Ubicacion'].replace('Nuevo Baztán, Nuevo Baztán','Nuevo Baztán')"
      ],
      "metadata": {
        "id": "_VQTg4jDB70e"
      },
      "execution_count": 71,
      "outputs": []
    },
    {
      "cell_type": "code",
      "source": [
        "df_inmuebles['Ubicacion'] = df_inmuebles['Ubicacion'].replace('Nuevo Baztán, Nuevo Baztán','Nuevo Baztán')"
      ],
      "metadata": {
        "id": "8xpk-ybKB7tr"
      },
      "execution_count": 72,
      "outputs": []
    },
    {
      "cell_type": "code",
      "source": [
        "df_inmuebles['Ubicacion'] = df_inmuebles['Ubicacion'].replace('Centro (Casco Antiguo) (Alcorcón), Valderas-Los Castillos-Parque Lisboa','Alcorcón')"
      ],
      "metadata": {
        "id": "ozAG42DgB7mx"
      },
      "execution_count": 73,
      "outputs": []
    },
    {
      "cell_type": "code",
      "source": [
        "df_inmuebles['Ubicacion'] = df_inmuebles['Ubicacion'].replace('Centro (Leganés)','Leganés')"
      ],
      "metadata": {
        "id": "eYGLxXdHFNLX"
      },
      "execution_count": 74,
      "outputs": []
    },
    {
      "cell_type": "code",
      "source": [
        "df_inmuebles['Ubicacion'] = df_inmuebles['Ubicacion'].replace('Boadilla del Monte, Valdepastores-Pino Centinela-Las Encinas','Boadilla del Monte')"
      ],
      "metadata": {
        "id": "4Ci-wzWvFNGw"
      },
      "execution_count": 75,
      "outputs": []
    },
    {
      "cell_type": "code",
      "source": [
        "df_inmuebles['Ubicacion'] = df_inmuebles['Ubicacion'].replace('Salamanca (Madrid)','Salamanca')"
      ],
      "metadata": {
        "id": "7rpB-AlAFNDQ"
      },
      "execution_count": 76,
      "outputs": []
    },
    {
      "cell_type": "code",
      "source": [
        "df_inmuebles['Ubicacion'] = df_inmuebles['Ubicacion'].replace('Boadilla del Monte, Viñas Viejas','Boadilla del Monte')"
      ],
      "metadata": {
        "id": "TZieIw26F3nt"
      },
      "execution_count": 77,
      "outputs": []
    },
    {
      "cell_type": "code",
      "source": [
        "df_inmuebles['Ubicacion'] = df_inmuebles['Ubicacion'].replace('Boadilla del Monte, Mayorazgo (Boadilla)','Boadilla del Monte')"
      ],
      "metadata": {
        "id": "8g8ObkSqF9N7"
      },
      "execution_count": 78,
      "outputs": []
    },
    {
      "cell_type": "code",
      "source": [
        "df_inmuebles['Ubicacion'] = df_inmuebles['Ubicacion'].replace('Boadilla del Monte, CASCO URBANO','Boadilla del Monte')"
      ],
      "metadata": {
        "id": "tr8Qm6IcF-Fx"
      },
      "execution_count": 79,
      "outputs": []
    },
    {
      "cell_type": "code",
      "source": [
        "df_inmuebles['Ubicacion'] = df_inmuebles['Ubicacion'].replace('San Sebastián de los Reyes, Casco Antiguo','San Sebastián de los Reyes')"
      ],
      "metadata": {
        "id": "EpGHaQ2AG8-c"
      },
      "execution_count": 80,
      "outputs": []
    },
    {
      "cell_type": "code",
      "source": [
        "df_inmuebles['Ubicacion'] = df_inmuebles['Ubicacion'].replace('Prosperidad (Madrid)','Prosperidad')"
      ],
      "metadata": {
        "id": "a3Ubu8TzP7qW"
      },
      "execution_count": 81,
      "outputs": []
    },
    {
      "cell_type": "code",
      "source": [
        "df_inmuebles['Ubicacion'] = df_inmuebles['Ubicacion'].replace('Salamanca (Madrid)','Salamanca')"
      ],
      "metadata": {
        "id": "CJzL29EDP7G6"
      },
      "execution_count": 82,
      "outputs": []
    },
    {
      "cell_type": "code",
      "source": [
        "df_inmuebles['Ubicacion'] = df_inmuebles['Ubicacion'].replace('Ciudad Jardín (Madrid)','Chamartín')"
      ],
      "metadata": {
        "id": "1B_o63mmQtgg"
      },
      "execution_count": 83,
      "outputs": []
    },
    {
      "cell_type": "code",
      "source": [
        "df_inmuebles['Ubicacion'] = df_inmuebles['Ubicacion'].replace('Prosperidad (Madrid)','Prosperidad')"
      ],
      "metadata": {
        "id": "lncFkgBRQtc-"
      },
      "execution_count": 84,
      "outputs": []
    },
    {
      "cell_type": "code",
      "source": [
        "df_inmuebles['Ubicacion'] = df_inmuebles['Ubicacion'].replace('Ciudad Lineal (Madrid)','Ciudad Lineal')"
      ],
      "metadata": {
        "id": "Q27S3pCBQtZi"
      },
      "execution_count": 85,
      "outputs": []
    },
    {
      "cell_type": "code",
      "source": [
        "df_inmuebles['Ubicacion'] = df_inmuebles['Ubicacion'].replace('Ciudad Lineal (Madrid)','Ciudad Lineal')"
      ],
      "metadata": {
        "id": "jT6g-jQEQtTG"
      },
      "execution_count": 86,
      "outputs": []
    },
    {
      "cell_type": "code",
      "source": [
        "df_inmuebles['Ubicacion'] = df_inmuebles['Ubicacion'].replace('Ventas (Madrid)','Ventas')"
      ],
      "metadata": {
        "id": "13zV1UV3QtFZ"
      },
      "execution_count": 87,
      "outputs": []
    },
    {
      "cell_type": "code",
      "source": [
        "df_inmuebles['Ubicacion'] = df_inmuebles['Ubicacion'].replace('Salamanca (Madrid)','Salamanca')"
      ],
      "metadata": {
        "id": "CbMTvPNnRelU"
      },
      "execution_count": 88,
      "outputs": []
    },
    {
      "cell_type": "code",
      "source": [
        "df_inmuebles['Ubicacion'] = df_inmuebles['Ubicacion'].replace('Salamanca (Madrid)','Salamanca')"
      ],
      "metadata": {
        "id": "QnTLT9BvRehX"
      },
      "execution_count": 89,
      "outputs": []
    },
    {
      "cell_type": "code",
      "source": [
        "df_inmuebles['Ubicacion'] = df_inmuebles['Ubicacion'].replace('Concepción (Madrid)','Ciudad Lineal')"
      ],
      "metadata": {
        "id": "vzEOZOv_Rec-"
      },
      "execution_count": 90,
      "outputs": []
    },
    {
      "cell_type": "code",
      "source": [
        "df_inmuebles['Ubicacion'] = df_inmuebles['Ubicacion'].replace('Goya (Madrid)','Goya')"
      ],
      "metadata": {
        "id": "mXkRC6zVSCMn"
      },
      "execution_count": 91,
      "outputs": []
    },
    {
      "cell_type": "code",
      "source": [
        "df_inmuebles['Ubicacion'] = df_inmuebles['Ubicacion'].replace('Prosperidad (Madrid)','Prosperidad')"
      ],
      "metadata": {
        "id": "GEixQFOLSCI7"
      },
      "execution_count": 92,
      "outputs": []
    },
    {
      "cell_type": "code",
      "source": [
        "df_inmuebles['Ubicacion'] = df_inmuebles['Ubicacion'].replace('Prosperidad (Madrid)','Prosperidad')"
      ],
      "metadata": {
        "id": "3PcxbwcqSCE-"
      },
      "execution_count": 93,
      "outputs": []
    },
    {
      "cell_type": "code",
      "source": [
        "df_inmuebles['Ubicacion'] = df_inmuebles['Ubicacion'].replace('Prosperidad (Madrid)','Prosperidad')"
      ],
      "metadata": {
        "id": "X5Oacow3SCBv"
      },
      "execution_count": 94,
      "outputs": []
    },
    {
      "cell_type": "code",
      "source": [
        "df_inmuebles['Ubicacion'] = df_inmuebles['Ubicacion'].replace('Prosperidad (Madrid)','Prosperidad')"
      ],
      "metadata": {
        "id": "biX6HajmSB9u"
      },
      "execution_count": 95,
      "outputs": []
    },
    {
      "cell_type": "code",
      "source": [
        "df_inmuebles['Ubicacion'] = df_inmuebles['Ubicacion'].replace('Salamanca (Madrid)','Salamanca')"
      ],
      "metadata": {
        "id": "CMDP7X_ASB5p"
      },
      "execution_count": 96,
      "outputs": []
    },
    {
      "cell_type": "code",
      "source": [
        "df_inmuebles['Ubicacion'] = df_inmuebles['Ubicacion'].replace('Salamanca (Madrid)','Salamanca')"
      ],
      "metadata": {
        "id": "dWugdYCDSB1m"
      },
      "execution_count": 97,
      "outputs": []
    },
    {
      "cell_type": "code",
      "source": [
        "df_inmuebles['Ubicacion'] = df_inmuebles['Ubicacion'].replace('Prosperidad (Madrid)','Prosperidad')"
      ],
      "metadata": {
        "id": "OE6WIK2tScBd"
      },
      "execution_count": 98,
      "outputs": []
    },
    {
      "cell_type": "code",
      "source": [
        "df_inmuebles['Ubicacion'] = df_inmuebles['Ubicacion'].replace('Salamanca (Madrid)','Salamanca')"
      ],
      "metadata": {
        "id": "VtydjEfWSb8h"
      },
      "execution_count": 99,
      "outputs": []
    },
    {
      "cell_type": "code",
      "source": [
        "df_inmuebles['Ubicacion'] = df_inmuebles['Ubicacion'].replace('Quintana (Madrid)','Ciudad Lineal')"
      ],
      "metadata": {
        "id": "sEWJSpTvSb3X"
      },
      "execution_count": 100,
      "outputs": []
    },
    {
      "cell_type": "code",
      "source": [
        "df_inmuebles['Ubicacion'] = df_inmuebles['Ubicacion'].replace('Hortaleza (Madrid)','Hortaleza')"
      ],
      "metadata": {
        "id": "yJiumEFYTXkO"
      },
      "execution_count": 101,
      "outputs": []
    },
    {
      "cell_type": "code",
      "source": [
        "df_inmuebles['Ubicacion'] = df_inmuebles['Ubicacion'].replace('Piovera (Madrid)','Hortaleza')"
      ],
      "metadata": {
        "id": "sQf0QST5TXgQ"
      },
      "execution_count": 102,
      "outputs": []
    },
    {
      "cell_type": "code",
      "source": [
        "df_inmuebles['Ubicacion'] = df_inmuebles['Ubicacion'].replace('Piovera (Madrid)','Hortaleza')"
      ],
      "metadata": {
        "id": "A3y_N_yHTXcF"
      },
      "execution_count": 103,
      "outputs": []
    },
    {
      "cell_type": "code",
      "source": [
        "df_inmuebles['Ubicacion'] = df_inmuebles['Ubicacion'].replace('Canillas (Madrid)','Hortaleza')"
      ],
      "metadata": {
        "id": "bNjOtn5kTXUy"
      },
      "execution_count": 104,
      "outputs": []
    },
    {
      "cell_type": "code",
      "source": [
        "df_inmuebles['Ubicacion'] = df_inmuebles['Ubicacion'].replace('Lucero (Madrid)','Latina')"
      ],
      "metadata": {
        "id": "pIbzepFfUva_"
      },
      "execution_count": 105,
      "outputs": []
    },
    {
      "cell_type": "code",
      "source": [
        "df_inmuebles['Ubicacion'] = df_inmuebles['Ubicacion'].replace('Fuentelarreina (Madrid)','Fuencarral')"
      ],
      "metadata": {
        "id": "kBMXTTaZUvWs"
      },
      "execution_count": 106,
      "outputs": []
    },
    {
      "cell_type": "code",
      "source": [
        "df_inmuebles['Ubicacion'] = df_inmuebles['Ubicacion'].replace('Retiro (Madrid)','Retiro')"
      ],
      "metadata": {
        "id": "d7KLWSqhUvTU"
      },
      "execution_count": 107,
      "outputs": []
    },
    {
      "cell_type": "code",
      "source": [
        "df_inmuebles['Ubicacion'] = df_inmuebles['Ubicacion'].replace('Niño Jesús (Madrid)','Retiro')"
      ],
      "metadata": {
        "id": "5YwPJVe_UvQE"
      },
      "execution_count": 108,
      "outputs": []
    },
    {
      "cell_type": "code",
      "source": [
        "df_inmuebles['Ubicacion'] = df_inmuebles['Ubicacion'].replace('Pacífico (Madrid)','Retiro')"
      ],
      "metadata": {
        "id": "cEP6n4QMV7yt"
      },
      "execution_count": 109,
      "outputs": []
    },
    {
      "cell_type": "code",
      "source": [
        "df_inmuebles['Ubicacion'] = df_inmuebles['Ubicacion'].replace('San Diego (Madrid)','Puente de Vallecas')"
      ],
      "metadata": {
        "id": "3-uZKeSkV7v0"
      },
      "execution_count": 110,
      "outputs": []
    },
    {
      "cell_type": "code",
      "source": [
        "df_inmuebles['Ubicacion'] = df_inmuebles['Ubicacion'].replace('Adelfas (Madrid)','Retiro')"
      ],
      "metadata": {
        "id": "LIxs_E1iV7s_"
      },
      "execution_count": 111,
      "outputs": []
    },
    {
      "cell_type": "code",
      "source": [
        "df_inmuebles['Ubicacion'] = df_inmuebles['Ubicacion'].replace('Ibiza (Madrid)','Retiro')"
      ],
      "metadata": {
        "id": "DUrq8sd0V7pv"
      },
      "execution_count": 112,
      "outputs": []
    },
    {
      "cell_type": "code",
      "source": [
        "df_inmuebles['Ubicacion'] = df_inmuebles['Ubicacion'].replace('Estrella (Madrid)','Retiro')"
      ],
      "metadata": {
        "id": "VRQ4_yBaV7mZ"
      },
      "execution_count": 113,
      "outputs": []
    },
    {
      "cell_type": "code",
      "source": [
        "df_inmuebles['Ubicacion'] = df_inmuebles['Ubicacion'].replace('Puente de Vallecas (Madrid)','Puente de Vallecas')"
      ],
      "metadata": {
        "id": "ZmYHqIYsV7hw"
      },
      "execution_count": 114,
      "outputs": []
    },
    {
      "cell_type": "code",
      "source": [
        "df_inmuebles['Ubicacion'] = df_inmuebles['Ubicacion'].replace('Fontarrón (Madrid)','Moratalaz')"
      ],
      "metadata": {
        "id": "V6gx5hmWXfxv"
      },
      "execution_count": 115,
      "outputs": []
    },
    {
      "cell_type": "code",
      "source": [
        "df_inmuebles['Ubicacion'] = df_inmuebles['Ubicacion'].replace('Centro-Arroyo-La Fuente (Fuenlabrada)','Fuenlabrada')"
      ],
      "metadata": {
        "id": "hMAJqDrYXfu-"
      },
      "execution_count": 116,
      "outputs": []
    },
    {
      "cell_type": "code",
      "source": [
        "df_inmuebles['Ubicacion'] = df_inmuebles['Ubicacion'].replace('Torrejón de Ardoz, Zona Noroeste','Torrejón de Ardoz')"
      ],
      "metadata": {
        "id": "1HblfGUwXfsB"
      },
      "execution_count": 117,
      "outputs": []
    },
    {
      "cell_type": "code",
      "source": [
        "df_inmuebles['Ubicacion'] = df_inmuebles['Ubicacion'].replace('Loranca- Nuevo Versalles-Parque Miraflores (Fenlabrada)','Fuenlabrada')"
      ],
      "metadata": {
        "id": "4_YAeCIMXfpB"
      },
      "execution_count": 118,
      "outputs": []
    },
    {
      "cell_type": "code",
      "source": [
        "df_inmuebles['Ubicacion'] = df_inmuebles['Ubicacion'].replace('Aranjuez, Zona Moreras','Aranjuez')"
      ],
      "metadata": {
        "id": "N_7ewpKjXflt"
      },
      "execution_count": 119,
      "outputs": []
    },
    {
      "cell_type": "code",
      "source": [
        "df_inmuebles['Ubicacion'] = df_inmuebles['Ubicacion'].replace('Chorrillo (Alcalá de Henares)','Alcalá de Henares')"
      ],
      "metadata": {
        "id": "1h62JKDeXfiV"
      },
      "execution_count": 120,
      "outputs": []
    },
    {
      "cell_type": "code",
      "source": [
        "df_inmuebles['Ubicacion'] = df_inmuebles['Ubicacion'].replace('Universidad (Madrid)','Centro de Madrid')"
      ],
      "metadata": {
        "id": "2rh_o5uaXffM"
      },
      "execution_count": 121,
      "outputs": []
    },
    {
      "cell_type": "code",
      "source": [
        "df_inmuebles['Ubicacion'] = df_inmuebles['Ubicacion'].replace('Santo Domingo','Centro de Madrid')"
      ],
      "metadata": {
        "id": "Wubeyo6qXfbj"
      },
      "execution_count": 122,
      "outputs": []
    },
    {
      "cell_type": "code",
      "source": [
        "df_inmuebles['Ubicacion'] = df_inmuebles['Ubicacion'].replace('Abrantes (Madrid)','Carabanchel')"
      ],
      "metadata": {
        "id": "Q3LgYNoRXfX3"
      },
      "execution_count": 123,
      "outputs": []
    },
    {
      "cell_type": "code",
      "source": [
        "df_inmuebles['Ubicacion'] = df_inmuebles['Ubicacion'].replace('Navalcarnero, EL PINAR','El Pinar, Navalcarnero')"
      ],
      "metadata": {
        "id": "oyUWiOU3eIue"
      },
      "execution_count": 124,
      "outputs": []
    },
    {
      "cell_type": "code",
      "source": [
        "df_inmuebles['Ubicacion'] = df_inmuebles['Ubicacion'].replace('Coimbra-Guadarrama (Móstoles), Zona tranquila a 20 minutos de Madrid, frente al Xanadú','Móstoles')"
      ],
      "metadata": {
        "id": "WEkcE7f7eIrQ"
      },
      "execution_count": 125,
      "outputs": []
    },
    {
      "cell_type": "code",
      "source": [
        "df_inmuebles['Ubicacion'] = df_inmuebles['Ubicacion'].replace('Universidad (Madrid), Malasaña','Centro de Madrid')"
      ],
      "metadata": {
        "id": "slM9BPKgeInw"
      },
      "execution_count": 126,
      "outputs": []
    },
    {
      "cell_type": "code",
      "source": [
        "df_inmuebles['Ubicacion'] = df_inmuebles['Ubicacion'].replace('Palomeras Bajas (Madrid)','Puente de Vallecas')"
      ],
      "metadata": {
        "id": "-4F1xanUeIj3"
      },
      "execution_count": 127,
      "outputs": []
    },
    {
      "cell_type": "code",
      "source": [
        "df_inmuebles['Ubicacion'] = df_inmuebles['Ubicacion'].replace('La Alhóndiga (Getafe)','Getafe')"
      ],
      "metadata": {
        "id": "18u7F2RFgYUh"
      },
      "execution_count": 128,
      "outputs": []
    },
    {
      "cell_type": "code",
      "source": [
        "df_inmuebles['Ubicacion'] = df_inmuebles['Ubicacion'].replace('Coimbra-Guadarrama (Móstoles)','Móstoles')"
      ],
      "metadata": {
        "id": "X6Np7JNXggLG"
      },
      "execution_count": 129,
      "outputs": []
    },
    {
      "cell_type": "code",
      "source": [
        "df_inmuebles['Ubicacion'] = df_inmuebles['Ubicacion'].replace('El Bercial (Getafe), Los Molinos-Los Olivos','Getafe')"
      ],
      "metadata": {
        "id": "Ui1IZ9_AggHE"
      },
      "execution_count": 130,
      "outputs": []
    },
    {
      "cell_type": "code",
      "source": [
        "df_inmuebles['Ubicacion'] = df_inmuebles['Ubicacion'].replace('Juan de la Cierva (Getafe)','Getafe')"
      ],
      "metadata": {
        "id": "3A_3dRfcggC6"
      },
      "execution_count": 131,
      "outputs": []
    },
    {
      "cell_type": "code",
      "source": [
        "df_inmuebles['Ubicacion'] = df_inmuebles['Ubicacion'].replace('Majadahonda, Casco Antiguo','Majadahonda')"
      ],
      "metadata": {
        "id": "6OEH5zz7gf-G"
      },
      "execution_count": 132,
      "outputs": []
    },
    {
      "cell_type": "code",
      "source": [
        "df_inmuebles['Ubicacion'] = df_inmuebles['Ubicacion'].replace('Guindalera (Madrid)','Salamanca')"
      ],
      "metadata": {
        "id": "D78XIoxOgYRV"
      },
      "execution_count": 133,
      "outputs": []
    },
    {
      "cell_type": "code",
      "source": [
        "df_inmuebles['Ubicacion'] = df_inmuebles['Ubicacion'].replace('Centro (Alcalá de Henares), REALIA PARQUE DEL ENSANCHE FASE 2','Alcalá de Henares')"
      ],
      "metadata": {
        "id": "--K5mzZcgYOZ"
      },
      "execution_count": 134,
      "outputs": []
    },
    {
      "cell_type": "code",
      "source": [
        "df_inmuebles['Ubicacion'] = df_inmuebles['Ubicacion'].replace('Aldea del Fresno, Urb. La Cañada','Aldea del Fresno')"
      ],
      "metadata": {
        "id": "WBB-eaT0gYLZ"
      },
      "execution_count": 135,
      "outputs": []
    },
    {
      "cell_type": "code",
      "source": [
        "df_inmuebles['Ubicacion'] = df_inmuebles['Ubicacion'].replace('Aldea del Fresno, Casco urbano','Aldea del Fresno')"
      ],
      "metadata": {
        "id": "-aZ2QrcGgYIh"
      },
      "execution_count": 136,
      "outputs": []
    },
    {
      "cell_type": "code",
      "source": [
        "df_inmuebles['Ubicacion'] = df_inmuebles['Ubicacion'].replace('Las Rozas de Madrid','Las Rozas')"
      ],
      "metadata": {
        "id": "oCI9-SmzgYEm"
      },
      "execution_count": 137,
      "outputs": []
    },
    {
      "cell_type": "code",
      "source": [
        "df_inmuebles['Ubicacion'] = df_inmuebles['Ubicacion'].replace('Centro (Getafe)','Getafe')"
      ],
      "metadata": {
        "id": "1OGXF7UweIfA"
      },
      "execution_count": 138,
      "outputs": []
    },
    {
      "cell_type": "code",
      "source": [
        "df_inmuebles['Ubicacion'] = df_inmuebles['Ubicacion'].replace('Salvador (Madrid)','San Blás-Canillejas')"
      ],
      "metadata": {
        "id": "5sJFUMJ1iTJV"
      },
      "execution_count": 139,
      "outputs": []
    },
    {
      "cell_type": "code",
      "source": [
        "df_inmuebles['Ubicacion'] = df_inmuebles['Ubicacion'].replace('Villa del Prado, URBANIZACION ENCINAR DEL ALBERCHE','Villa del Pardo')"
      ],
      "metadata": {
        "id": "S3dZ6ym_iTFr"
      },
      "execution_count": 140,
      "outputs": []
    },
    {
      "cell_type": "code",
      "source": [
        "df_inmuebles['Ubicacion'] = df_inmuebles['Ubicacion'].replace('Las Retamas, Prado Santo Domingo, Ensanche Sur (Alcorcón)','Alcorcón')"
      ],
      "metadata": {
        "id": "IACtscQViTCH"
      },
      "execution_count": 141,
      "outputs": []
    },
    {
      "cell_type": "code",
      "source": [
        "df_inmuebles['Ubicacion'] = df_inmuebles['Ubicacion'].replace('Sol (Madrid)','Centro de Madrid')"
      ],
      "metadata": {
        "id": "d4uQqHkZk3zT"
      },
      "execution_count": 142,
      "outputs": []
    },
    {
      "cell_type": "code",
      "source": [
        "df_inmuebles['Ubicacion'] = df_inmuebles['Ubicacion'].replace('Las Retamas, Prado Santo Domingo, Ensanche Sur (Alcorcón)','Alcorcón')"
      ],
      "metadata": {
        "id": "H20wzvLtiS-D"
      },
      "execution_count": 143,
      "outputs": []
    },
    {
      "cell_type": "code",
      "source": [
        "# Exporto csv con los cambios\n",
        "df_inmuebles.to_csv('df_viviendas.csv', index=False)"
      ],
      "metadata": {
        "id": "2qKIJ8auX_y7"
      },
      "execution_count": 144,
      "outputs": []
    },
    {
      "cell_type": "code",
      "source": [
        "# Leemos csv con el procesamiento realizado\n",
        "data_inmuebles = pd.read_csv('df_viviendas.csv')"
      ],
      "metadata": {
        "id": "K8a4fv8-X5o8"
      },
      "execution_count": 145,
      "outputs": []
    },
    {
      "cell_type": "code",
      "source": [
        "pd.set_option('display.max_colwidth', None)"
      ],
      "metadata": {
        "id": "MNz1J4NlX5bg"
      },
      "execution_count": 151,
      "outputs": []
    },
    {
      "cell_type": "code",
      "source": [
        "data_inmuebles.head(200)"
      ],
      "metadata": {
        "colab": {
          "base_uri": "https://localhost:8080/",
          "height": 423
        },
        "id": "XWYNHLli9qj9",
        "outputId": "09fdd6f6-59cb-4b7d-815d-5bc73411aeb6"
      },
      "execution_count": 152,
      "outputs": [
        {
          "output_type": "execute_result",
          "data": {
            "text/plain": [
              "             Ubicacion  Metros  Precio-Metro Ultima Actualizacion  \\\n",
              "0    alcala de henares      68         1.250            hoy 14:06   \n",
              "1    villa de vallecas      86         2.302            hoy 14:04   \n",
              "2    alcala de henares     275         1.600            hoy 13:56   \n",
              "3    alcala de henares     259         1.486            hoy 13:54   \n",
              "4         pueblo nuevo      85         2.459            hoy 13:52   \n",
              "..                 ...     ...           ...                  ...   \n",
              "191          galapagar     506         1.136            hoy 11:53   \n",
              "192               goya      84         6.905            hoy 11:53   \n",
              "193    villa del prado     229         1.004            hoy 11:52   \n",
              "194   centro de madrid     108         3.694            hoy 11:52   \n",
              "195           alcorcón     103         3.458            hoy 11:52   \n",
              "\n",
              "            descripcion_inmueble  \n",
              "0     alcala de henares 68 1.250  \n",
              "1     villa de vallecas 86 2.302  \n",
              "2    alcala de henares 275 1.600  \n",
              "3    alcala de henares 259 1.486  \n",
              "4          pueblo nuevo 85 2.459  \n",
              "..                           ...  \n",
              "191          galapagar 506 1.136  \n",
              "192                goya 84 6.905  \n",
              "193    villa del prado 229 1.004  \n",
              "194   centro de madrid 108 3.694  \n",
              "195           alcorcón 103 3.458  \n",
              "\n",
              "[196 rows x 5 columns]"
            ],
            "text/html": [
              "\n",
              "  <div id=\"df-09482d2f-c1b1-452e-8324-2f1f178e8fcd\" class=\"colab-df-container\">\n",
              "    <div>\n",
              "<style scoped>\n",
              "    .dataframe tbody tr th:only-of-type {\n",
              "        vertical-align: middle;\n",
              "    }\n",
              "\n",
              "    .dataframe tbody tr th {\n",
              "        vertical-align: top;\n",
              "    }\n",
              "\n",
              "    .dataframe thead th {\n",
              "        text-align: right;\n",
              "    }\n",
              "</style>\n",
              "<table border=\"1\" class=\"dataframe\">\n",
              "  <thead>\n",
              "    <tr style=\"text-align: right;\">\n",
              "      <th></th>\n",
              "      <th>Ubicacion</th>\n",
              "      <th>Metros</th>\n",
              "      <th>Precio-Metro</th>\n",
              "      <th>Ultima Actualizacion</th>\n",
              "      <th>descripcion_inmueble</th>\n",
              "    </tr>\n",
              "  </thead>\n",
              "  <tbody>\n",
              "    <tr>\n",
              "      <th>0</th>\n",
              "      <td>alcala de henares</td>\n",
              "      <td>68</td>\n",
              "      <td>1.250</td>\n",
              "      <td>hoy 14:06</td>\n",
              "      <td>alcala de henares 68 1.250</td>\n",
              "    </tr>\n",
              "    <tr>\n",
              "      <th>1</th>\n",
              "      <td>villa de vallecas</td>\n",
              "      <td>86</td>\n",
              "      <td>2.302</td>\n",
              "      <td>hoy 14:04</td>\n",
              "      <td>villa de vallecas 86 2.302</td>\n",
              "    </tr>\n",
              "    <tr>\n",
              "      <th>2</th>\n",
              "      <td>alcala de henares</td>\n",
              "      <td>275</td>\n",
              "      <td>1.600</td>\n",
              "      <td>hoy 13:56</td>\n",
              "      <td>alcala de henares 275 1.600</td>\n",
              "    </tr>\n",
              "    <tr>\n",
              "      <th>3</th>\n",
              "      <td>alcala de henares</td>\n",
              "      <td>259</td>\n",
              "      <td>1.486</td>\n",
              "      <td>hoy 13:54</td>\n",
              "      <td>alcala de henares 259 1.486</td>\n",
              "    </tr>\n",
              "    <tr>\n",
              "      <th>4</th>\n",
              "      <td>pueblo nuevo</td>\n",
              "      <td>85</td>\n",
              "      <td>2.459</td>\n",
              "      <td>hoy 13:52</td>\n",
              "      <td>pueblo nuevo 85 2.459</td>\n",
              "    </tr>\n",
              "    <tr>\n",
              "      <th>...</th>\n",
              "      <td>...</td>\n",
              "      <td>...</td>\n",
              "      <td>...</td>\n",
              "      <td>...</td>\n",
              "      <td>...</td>\n",
              "    </tr>\n",
              "    <tr>\n",
              "      <th>191</th>\n",
              "      <td>galapagar</td>\n",
              "      <td>506</td>\n",
              "      <td>1.136</td>\n",
              "      <td>hoy 11:53</td>\n",
              "      <td>galapagar 506 1.136</td>\n",
              "    </tr>\n",
              "    <tr>\n",
              "      <th>192</th>\n",
              "      <td>goya</td>\n",
              "      <td>84</td>\n",
              "      <td>6.905</td>\n",
              "      <td>hoy 11:53</td>\n",
              "      <td>goya 84 6.905</td>\n",
              "    </tr>\n",
              "    <tr>\n",
              "      <th>193</th>\n",
              "      <td>villa del prado</td>\n",
              "      <td>229</td>\n",
              "      <td>1.004</td>\n",
              "      <td>hoy 11:52</td>\n",
              "      <td>villa del prado 229 1.004</td>\n",
              "    </tr>\n",
              "    <tr>\n",
              "      <th>194</th>\n",
              "      <td>centro de madrid</td>\n",
              "      <td>108</td>\n",
              "      <td>3.694</td>\n",
              "      <td>hoy 11:52</td>\n",
              "      <td>centro de madrid 108 3.694</td>\n",
              "    </tr>\n",
              "    <tr>\n",
              "      <th>195</th>\n",
              "      <td>alcorcón</td>\n",
              "      <td>103</td>\n",
              "      <td>3.458</td>\n",
              "      <td>hoy 11:52</td>\n",
              "      <td>alcorcón 103 3.458</td>\n",
              "    </tr>\n",
              "  </tbody>\n",
              "</table>\n",
              "<p>196 rows × 5 columns</p>\n",
              "</div>\n",
              "    <div class=\"colab-df-buttons\">\n",
              "\n",
              "  <div class=\"colab-df-container\">\n",
              "    <button class=\"colab-df-convert\" onclick=\"convertToInteractive('df-09482d2f-c1b1-452e-8324-2f1f178e8fcd')\"\n",
              "            title=\"Convert this dataframe to an interactive table.\"\n",
              "            style=\"display:none;\">\n",
              "\n",
              "  <svg xmlns=\"http://www.w3.org/2000/svg\" height=\"24px\" viewBox=\"0 -960 960 960\">\n",
              "    <path d=\"M120-120v-720h720v720H120Zm60-500h600v-160H180v160Zm220 220h160v-160H400v160Zm0 220h160v-160H400v160ZM180-400h160v-160H180v160Zm440 0h160v-160H620v160ZM180-180h160v-160H180v160Zm440 0h160v-160H620v160Z\"/>\n",
              "  </svg>\n",
              "    </button>\n",
              "\n",
              "  <style>\n",
              "    .colab-df-container {\n",
              "      display:flex;\n",
              "      gap: 12px;\n",
              "    }\n",
              "\n",
              "    .colab-df-convert {\n",
              "      background-color: #E8F0FE;\n",
              "      border: none;\n",
              "      border-radius: 50%;\n",
              "      cursor: pointer;\n",
              "      display: none;\n",
              "      fill: #1967D2;\n",
              "      height: 32px;\n",
              "      padding: 0 0 0 0;\n",
              "      width: 32px;\n",
              "    }\n",
              "\n",
              "    .colab-df-convert:hover {\n",
              "      background-color: #E2EBFA;\n",
              "      box-shadow: 0px 1px 2px rgba(60, 64, 67, 0.3), 0px 1px 3px 1px rgba(60, 64, 67, 0.15);\n",
              "      fill: #174EA6;\n",
              "    }\n",
              "\n",
              "    .colab-df-buttons div {\n",
              "      margin-bottom: 4px;\n",
              "    }\n",
              "\n",
              "    [theme=dark] .colab-df-convert {\n",
              "      background-color: #3B4455;\n",
              "      fill: #D2E3FC;\n",
              "    }\n",
              "\n",
              "    [theme=dark] .colab-df-convert:hover {\n",
              "      background-color: #434B5C;\n",
              "      box-shadow: 0px 1px 3px 1px rgba(0, 0, 0, 0.15);\n",
              "      filter: drop-shadow(0px 1px 2px rgba(0, 0, 0, 0.3));\n",
              "      fill: #FFFFFF;\n",
              "    }\n",
              "  </style>\n",
              "\n",
              "    <script>\n",
              "      const buttonEl =\n",
              "        document.querySelector('#df-09482d2f-c1b1-452e-8324-2f1f178e8fcd button.colab-df-convert');\n",
              "      buttonEl.style.display =\n",
              "        google.colab.kernel.accessAllowed ? 'block' : 'none';\n",
              "\n",
              "      async function convertToInteractive(key) {\n",
              "        const element = document.querySelector('#df-09482d2f-c1b1-452e-8324-2f1f178e8fcd');\n",
              "        const dataTable =\n",
              "          await google.colab.kernel.invokeFunction('convertToInteractive',\n",
              "                                                    [key], {});\n",
              "        if (!dataTable) return;\n",
              "\n",
              "        const docLinkHtml = 'Like what you see? Visit the ' +\n",
              "          '<a target=\"_blank\" href=https://colab.research.google.com/notebooks/data_table.ipynb>data table notebook</a>'\n",
              "          + ' to learn more about interactive tables.';\n",
              "        element.innerHTML = '';\n",
              "        dataTable['output_type'] = 'display_data';\n",
              "        await google.colab.output.renderOutput(dataTable, element);\n",
              "        const docLink = document.createElement('div');\n",
              "        docLink.innerHTML = docLinkHtml;\n",
              "        element.appendChild(docLink);\n",
              "      }\n",
              "    </script>\n",
              "  </div>\n",
              "\n",
              "\n",
              "<div id=\"df-92934d3d-2b42-4336-a26f-ce64ba9cf1d9\">\n",
              "  <button class=\"colab-df-quickchart\" onclick=\"quickchart('df-92934d3d-2b42-4336-a26f-ce64ba9cf1d9')\"\n",
              "            title=\"Suggest charts\"\n",
              "            style=\"display:none;\">\n",
              "\n",
              "<svg xmlns=\"http://www.w3.org/2000/svg\" height=\"24px\"viewBox=\"0 0 24 24\"\n",
              "     width=\"24px\">\n",
              "    <g>\n",
              "        <path d=\"M19 3H5c-1.1 0-2 .9-2 2v14c0 1.1.9 2 2 2h14c1.1 0 2-.9 2-2V5c0-1.1-.9-2-2-2zM9 17H7v-7h2v7zm4 0h-2V7h2v10zm4 0h-2v-4h2v4z\"/>\n",
              "    </g>\n",
              "</svg>\n",
              "  </button>\n",
              "\n",
              "<style>\n",
              "  .colab-df-quickchart {\n",
              "      --bg-color: #E8F0FE;\n",
              "      --fill-color: #1967D2;\n",
              "      --hover-bg-color: #E2EBFA;\n",
              "      --hover-fill-color: #174EA6;\n",
              "      --disabled-fill-color: #AAA;\n",
              "      --disabled-bg-color: #DDD;\n",
              "  }\n",
              "\n",
              "  [theme=dark] .colab-df-quickchart {\n",
              "      --bg-color: #3B4455;\n",
              "      --fill-color: #D2E3FC;\n",
              "      --hover-bg-color: #434B5C;\n",
              "      --hover-fill-color: #FFFFFF;\n",
              "      --disabled-bg-color: #3B4455;\n",
              "      --disabled-fill-color: #666;\n",
              "  }\n",
              "\n",
              "  .colab-df-quickchart {\n",
              "    background-color: var(--bg-color);\n",
              "    border: none;\n",
              "    border-radius: 50%;\n",
              "    cursor: pointer;\n",
              "    display: none;\n",
              "    fill: var(--fill-color);\n",
              "    height: 32px;\n",
              "    padding: 0;\n",
              "    width: 32px;\n",
              "  }\n",
              "\n",
              "  .colab-df-quickchart:hover {\n",
              "    background-color: var(--hover-bg-color);\n",
              "    box-shadow: 0 1px 2px rgba(60, 64, 67, 0.3), 0 1px 3px 1px rgba(60, 64, 67, 0.15);\n",
              "    fill: var(--button-hover-fill-color);\n",
              "  }\n",
              "\n",
              "  .colab-df-quickchart-complete:disabled,\n",
              "  .colab-df-quickchart-complete:disabled:hover {\n",
              "    background-color: var(--disabled-bg-color);\n",
              "    fill: var(--disabled-fill-color);\n",
              "    box-shadow: none;\n",
              "  }\n",
              "\n",
              "  .colab-df-spinner {\n",
              "    border: 2px solid var(--fill-color);\n",
              "    border-color: transparent;\n",
              "    border-bottom-color: var(--fill-color);\n",
              "    animation:\n",
              "      spin 1s steps(1) infinite;\n",
              "  }\n",
              "\n",
              "  @keyframes spin {\n",
              "    0% {\n",
              "      border-color: transparent;\n",
              "      border-bottom-color: var(--fill-color);\n",
              "      border-left-color: var(--fill-color);\n",
              "    }\n",
              "    20% {\n",
              "      border-color: transparent;\n",
              "      border-left-color: var(--fill-color);\n",
              "      border-top-color: var(--fill-color);\n",
              "    }\n",
              "    30% {\n",
              "      border-color: transparent;\n",
              "      border-left-color: var(--fill-color);\n",
              "      border-top-color: var(--fill-color);\n",
              "      border-right-color: var(--fill-color);\n",
              "    }\n",
              "    40% {\n",
              "      border-color: transparent;\n",
              "      border-right-color: var(--fill-color);\n",
              "      border-top-color: var(--fill-color);\n",
              "    }\n",
              "    60% {\n",
              "      border-color: transparent;\n",
              "      border-right-color: var(--fill-color);\n",
              "    }\n",
              "    80% {\n",
              "      border-color: transparent;\n",
              "      border-right-color: var(--fill-color);\n",
              "      border-bottom-color: var(--fill-color);\n",
              "    }\n",
              "    90% {\n",
              "      border-color: transparent;\n",
              "      border-bottom-color: var(--fill-color);\n",
              "    }\n",
              "  }\n",
              "</style>\n",
              "\n",
              "  <script>\n",
              "    async function quickchart(key) {\n",
              "      const quickchartButtonEl =\n",
              "        document.querySelector('#' + key + ' button');\n",
              "      quickchartButtonEl.disabled = true;  // To prevent multiple clicks.\n",
              "      quickchartButtonEl.classList.add('colab-df-spinner');\n",
              "      try {\n",
              "        const charts = await google.colab.kernel.invokeFunction(\n",
              "            'suggestCharts', [key], {});\n",
              "      } catch (error) {\n",
              "        console.error('Error during call to suggestCharts:', error);\n",
              "      }\n",
              "      quickchartButtonEl.classList.remove('colab-df-spinner');\n",
              "      quickchartButtonEl.classList.add('colab-df-quickchart-complete');\n",
              "    }\n",
              "    (() => {\n",
              "      let quickchartButtonEl =\n",
              "        document.querySelector('#df-92934d3d-2b42-4336-a26f-ce64ba9cf1d9 button');\n",
              "      quickchartButtonEl.style.display =\n",
              "        google.colab.kernel.accessAllowed ? 'block' : 'none';\n",
              "    })();\n",
              "  </script>\n",
              "</div>\n",
              "    </div>\n",
              "  </div>\n"
            ]
          },
          "metadata": {},
          "execution_count": 152
        }
      ]
    },
    {
      "cell_type": "code",
      "source": [
        "print(data_inmuebles[['Ubicacion','Metros','Precio-Metro']])"
      ],
      "metadata": {
        "colab": {
          "base_uri": "https://localhost:8080/"
        },
        "id": "SZ8IDm6GZ9-Y",
        "outputId": "a0930921-1757-4266-96c4-d0e4f22b8ee7"
      },
      "execution_count": 153,
      "outputs": [
        {
          "output_type": "stream",
          "name": "stdout",
          "text": [
            "             Ubicacion  Metros  Precio-Metro\n",
            "0    alcala de henares      68         1.250\n",
            "1    villa de vallecas      86         2.302\n",
            "2    alcala de henares     275         1.600\n",
            "3    alcala de henares     259         1.486\n",
            "4         pueblo nuevo      85         2.459\n",
            "..                 ...     ...           ...\n",
            "191          galapagar     506         1.136\n",
            "192               goya      84         6.905\n",
            "193    villa del prado     229         1.004\n",
            "194   centro de madrid     108         3.694\n",
            "195           alcorcón     103         3.458\n",
            "\n",
            "[196 rows x 3 columns]\n"
          ]
        }
      ]
    },
    {
      "cell_type": "markdown",
      "source": [
        "## Modelo"
      ],
      "metadata": {
        "id": "X04I736drp6m"
      }
    },
    {
      "cell_type": "code",
      "source": [
        "from sklearn.feature_extraction.text import CountVectorizer\n",
        "from sklearn.metrics.pairwise import cosine_similarity"
      ],
      "metadata": {
        "id": "710cGtU8Z00u"
      },
      "execution_count": 209,
      "outputs": []
    },
    {
      "cell_type": "markdown",
      "source": [
        "### Esta función es para hacerla más reutilizable"
      ],
      "metadata": {
        "id": "vgJNvfwjyDVL"
      }
    },
    {
      "cell_type": "code",
      "source": [
        "\"\"\"\n",
        "def localizador_oportunidades(data_inmuebles):\n",
        "    try:\n",
        "        # Eliminamos espacios en blanco al principio y al final de los valores en la columna 'Ubicacion'\n",
        "        data_inmuebles['Ubicacion'] = data_inmuebles['Ubicacion'].str.strip()\n",
        "\n",
        "        # Normalizamos a minúsculas\n",
        "        data_inmuebles['Ubicacion'] = data_inmuebles['Ubicacion'].str.lower()\n",
        "\n",
        "        # Construimos la descripción del inmueble\n",
        "        data_inmuebles['descripcion_inmueble'] = data_inmuebles['Ubicacion'] + ' ' + data_inmuebles['Metros'].astype(str) + ' ' + data_inmuebles['Precio-Metro'].map('{:.3f}'.format)\n",
        "\n",
        "        # Utilizamos CountVectorizer para convertir la descripción del inmueble en una matriz de términos\n",
        "        vectorizer = CountVectorizer()\n",
        "        matriz_tfidf = vectorizer.fit_transform(data_inmuebles['descripcion_inmueble'])\n",
        "\n",
        "        # Calculamos la similitud del coseno entre las descripciones de inmuebles\n",
        "        similitud_cos = cosine_similarity(matriz_tfidf, matriz_tfidf)\n",
        "\n",
        "        return similitud_cos\n",
        "\n",
        "    except Exception as e:\n",
        "        raise RuntimeError(f\"Error en localizador_oportunidades: {e}\")\n",
        "\n",
        "# Ejemplo de uso\n",
        "try:\n",
        "    matriz_similitud = localizador_oportunidades(data_inmuebles)\n",
        "    print(matriz_similitud)\n",
        "except RuntimeError as e:\n",
        "    print(f\"Error en el ejemplo de uso: {e}\")\n",
        "\"\"\""
      ],
      "metadata": {
        "colab": {
          "base_uri": "https://localhost:8080/"
        },
        "id": "-uvE50yNvPP9",
        "outputId": "1266e78c-4e97-4df5-960b-1988aacdf552"
      },
      "execution_count": 207,
      "outputs": [
        {
          "output_type": "stream",
          "name": "stdout",
          "text": [
            "[[1.  0.2 0.6 ... 0.  0.2 0. ]\n",
            " [0.2 1.  0.2 ... 0.2 0.2 0. ]\n",
            " [0.6 0.2 1.  ... 0.  0.2 0. ]\n",
            " ...\n",
            " [0.  0.2 0.  ... 1.  0.  0. ]\n",
            " [0.2 0.2 0.2 ... 0.  1.  0. ]\n",
            " [0.  0.  0.  ... 0.  0.  1. ]]\n"
          ]
        }
      ]
    },
    {
      "cell_type": "code",
      "source": [
        "\n",
        "# Creamos función que procesa los datos y devuelve matriz de similitud\n",
        "def localizador_oportunidades(data_inmuebles):\n",
        "    try:\n",
        "        # Eliminamos espacios en blanco al principio y al final de los valores en la columna 'Ubicacion'\n",
        "\n",
        "\n",
        "        data_inmuebles['Ubicacion'] = data_inmuebles['Ubicacion'].str.strip()\n",
        "\n",
        "        data_inmuebles['Ubicacion'] = data_inmuebles['Ubicacion'].str.lower()  # Normalizamos a minúsculas\n",
        "\n",
        "        data_inmuebles['descripcion_inmueble'] = data_inmuebles['Ubicacion'].str.lower() + ' ' + data_inmuebles['Metros'].astype(str) + ' ' + data_inmuebles['Precio-Metro'].map('{:.3f}'.format)\n",
        "\n",
        "        # Utilizamos CountVectorizer para convertir la descripción del inmueble en una matriz de términos\n",
        "        vectorizer = CountVectorizer()\n",
        "        matriz_tfidf = vectorizer.fit_transform(data_inmuebles['descripcion_inmueble'])\n",
        "\n",
        "        # Calculamos la similitud del coseno entre las descripciones de inmuebles\n",
        "        similitud_cos = cosine_similarity(matriz_tfidf, matriz_tfidf)\n",
        "\n",
        "        return similitud_cos\n",
        "\n",
        "    except Exception as e:\n",
        "        print(f\"Error en localizador_oportunidades: {e}\")\n",
        "\n",
        "        return pd.DataFrame()\n",
        "\n",
        "\n",
        "# Ejemplo de uso\n",
        "try:\n",
        "    matriz_similitud = localizador_oportunidades(data_inmuebles)\n",
        "    print(matriz_similitud)\n",
        "except Exception as e:\n",
        "    print(f\"Error en el ejemplo de uso: {e}\")"
      ],
      "metadata": {
        "colab": {
          "base_uri": "https://localhost:8080/"
        },
        "id": "WlJRYSXeaQHk",
        "outputId": "6ae287fe-b262-44e8-e718-4368e7fd9217"
      },
      "execution_count": 210,
      "outputs": [
        {
          "output_type": "stream",
          "name": "stdout",
          "text": [
            "[[1.  0.2 0.6 ... 0.  0.2 0. ]\n",
            " [0.2 1.  0.2 ... 0.2 0.2 0. ]\n",
            " [0.6 0.2 1.  ... 0.  0.2 0. ]\n",
            " ...\n",
            " [0.  0.2 0.  ... 1.  0.  0. ]\n",
            " [0.2 0.2 0.2 ... 0.  1.  0. ]\n",
            " [0.  0.  0.  ... 0.  0.  1. ]]\n"
          ]
        }
      ]
    },
    {
      "cell_type": "markdown",
      "source": [
        "## Función sin similitudes antes de filtar"
      ],
      "metadata": {
        "id": "32yybgHWsBZU"
      }
    },
    {
      "cell_type": "code",
      "source": [
        "def recomendar_inmueble(ubicacion, metros, precio_metro, data_inmuebles, umbral_similitud=0.3, num_recomendaciones=5):\n",
        "    try:\n",
        "        # Encontramos el índice de la ubicación en el DataFrame\n",
        "        indice_ubicacion = data_inmuebles[data_inmuebles['Ubicacion'].str.lower() == ubicacion.lower()].index\n",
        "\n",
        "        # Verificar si la ubicación existe\n",
        "        if indice_ubicacion.empty:\n",
        "            print(f\"Error: Ubicación '{ubicacion}' no encontrada en el DataFrame.\")\n",
        "            return pd.DataFrame()  # Devolvemos un DataFrame vacío en caso de error\n",
        "\n",
        "        # Obtenemos la fila correspondiente en el DataFrame\n",
        "        similitudes_ubicacion = matriz_similitud[indice_ubicacion[0]]\n",
        "\n",
        "        # Filtramos las similitudes por umbral\n",
        "        similitudes_filtradas = [(i, sim) for i, sim in enumerate(similitudes_ubicacion) if sim > umbral_similitud]\n",
        "\n",
        "        # Si no hay similitudes suficientes, devolvemos un DataFrame vacío\n",
        "        if not similitudes_filtradas:\n",
        "            print(\"Error: No hay recomendaciones disponibles para los criterios especificados.\")\n",
        "            return pd.DataFrame()\n",
        "\n",
        "        # Ordenamos las similitudes y tomamos los índices\n",
        "        indices_ordenados = [i for i, _ in sorted(similitudes_filtradas, key=lambda x: x[1], reverse=True)]\n",
        "\n",
        "        # Filtramos las recomendaciones por ubicación\n",
        "        recomendaciones = data_inmuebles.loc[indices_ordenados]\n",
        "\n",
        "        # Filtramos las recomendaciones por rango de metros\n",
        "        recomendaciones = recomendaciones[\n",
        "            (recomendaciones['Metros'] >= int(metros.split('-')[0])) &\n",
        "            (recomendaciones['Metros'] <= int(metros.split('-')[1]))\n",
        "        ]\n",
        "\n",
        "        # Filtramos las recomendaciones por rango de precio por metro cuadrado\n",
        "        recomendaciones = recomendaciones[\n",
        "            (recomendaciones['Precio-Metro'] >= float(precio_metro.split('-')[0])) &\n",
        "            (recomendaciones['Precio-Metro'] <= float(precio_metro.split('-')[1]))\n",
        "        ]\n",
        "\n",
        "        # Verificamos si hay recomendaciones después de aplicar los filtros\n",
        "        if recomendaciones.empty:\n",
        "            print(f\"No hay recomendaciones para los criterios especificados en '{ubicacion}'.\")\n",
        "            return pd.DataFrame()\n",
        "\n",
        "        # Limitamos el número de recomendaciones\n",
        "        recomendaciones = recomendaciones.head(num_recomendaciones)\n",
        "\n",
        "        return recomendaciones\n",
        "\n",
        "    except Exception as e:\n",
        "        print(f\"Error en recomendar_inmueble: {e}\")\n",
        "        return pd.DataFrame()\n",
        "\n",
        "# Ejemplo de uso con rangos\n",
        "ubicacion_interes = 'alcala de henares'\n",
        "metros_interes = '40-250'  # Rango de metros\n",
        "precio_metro_interes = '1.000-2.000'  # Rango de precio por metro cuadrado\n",
        "\n",
        "recomendaciones = recomendar_inmueble(ubicacion_interes, metros_interes, precio_metro_interes, data_inmuebles)\n",
        "print(recomendaciones)\n"
      ],
      "metadata": {
        "colab": {
          "base_uri": "https://localhost:8080/"
        },
        "id": "Fnno5ADao-ZF",
        "outputId": "ee02bfeb-5741-44ff-8e11-1e111df3a6e9"
      },
      "execution_count": 208,
      "outputs": [
        {
          "output_type": "stream",
          "name": "stdout",
          "text": [
            "             Ubicacion  Metros  Precio-Metro Ultima Actualizacion  \\\n",
            "0    alcala de henares      68         1.250            hoy 14:06   \n",
            "100  alcalá de henares     136         1.323            hoy 12:02   \n",
            "\n",
            "            descripcion_inmueble  \n",
            "0     alcala de henares 68 1.250  \n",
            "100  alcalá de henares 136 1.323  \n"
          ]
        }
      ]
    },
    {
      "cell_type": "markdown",
      "source": [
        "## Función con similitudes impresas antes de filtrar"
      ],
      "metadata": {
        "id": "xKCDNneSsN-w"
      }
    },
    {
      "cell_type": "code",
      "source": [
        "def recomendar_inmueble(ubicacion, metros, precio_metro, data_inmuebles, matriz_similitud, umbral_similitud=0.1, num_recomendaciones=5):\n",
        "    try:\n",
        "        # Encontramos el índice de la ubicación en el DataFrame\n",
        "        indice_ubicacion = data_inmuebles[data_inmuebles['Ubicacion'] == ubicacion].index[0]\n",
        "    except IndexError:\n",
        "        print(f\"Error: Ubicación '{ubicacion}' no encontrada en el DataFrame.\")\n",
        "        return pd.DataFrame()  # Devolvemos un DataFrame vacío en caso de error\n",
        "\n",
        "    # Obtenemos la fila correspondiente en la matriz de similitud\n",
        "    similitudes_ubicacion = matriz_similitud[indice_ubicacion]\n",
        "\n",
        "    # Filtramos las similitudes por umbral\n",
        "    similitudes_filtradas = [(i, sim) for i, sim in enumerate(similitudes_ubicacion) if sim > umbral_similitud]\n",
        "\n",
        "    # Imprimir información para rastreo\n",
        "    print(\"Similitudes antes de filtrar:\", similitudes_ubicacion)\n",
        "    print(\"Similitudes después de filtrar por umbral:\", similitudes_filtradas)\n",
        "\n",
        "    # Si no hay similitudes suficientes, devolvemos un DataFrame vacío\n",
        "    if not similitudes_filtradas:\n",
        "      print(\"Error: No hay recomendaciones disponibles para los criterios especificados.\")\n",
        "      return pd.DataFrame()\n",
        "\n",
        "    # Ordenamos las similitudes y tomamos los índices\n",
        "    indices_ordenados = [i for i, _ in sorted(similitudes_filtradas, key=lambda x: x[1], reverse=True)]\n",
        "\n",
        "    # Imprimir información para rastreo\n",
        "\n",
        "    # Filtramos las recomendaciones por ubicación\n",
        "    recomendaciones = data_inmuebles.loc[indices_ordenados]\n",
        "\n",
        "    # Filtramos las recomendaciones por rango de metros\n",
        "    recomendaciones = recomendaciones[\n",
        "        (recomendaciones['Metros'] >= int(metros.split('-')[0])) &\n",
        "        (recomendaciones['Metros'] <= int(metros.split('-')[1]))\n",
        "    ]\n",
        "\n",
        "    # Filtramos las recomendaciones por rango de precio por metro cuadrado\n",
        "    recomendaciones = recomendaciones[\n",
        "        (recomendaciones['Precio-Metro'] >= float(precio_metro.split('-')[0])) &\n",
        "        (recomendaciones['Precio-Metro'] <= float(precio_metro.split('-')[1]))\n",
        "    ]\n",
        "\n",
        "    # Verificamos si hay recomendaciones después de aplicar los filtros\n",
        "    if recomendaciones.empty:\n",
        "        print(f\"No hay recomendaciones para los criterios especificados en '{ubicacion}'.\")\n",
        "        return pd.DataFrame()\n",
        "\n",
        "    # Limitamos el número de recomendaciones\n",
        "    recomendaciones = recomendaciones.head(num_recomendaciones)\n",
        "\n",
        "    return recomendaciones\n",
        "\n",
        "# Ejemplo de uso con rangos\n",
        "ubicacion_interes = 'alcala de henares'\n",
        "metros_interes = '40-250'  # Rango de metros\n",
        "precio_metro_interes = '1.000-2.000'  # Rango de precio por metro cuadrado\n",
        "\n",
        "recomendaciones = recomendar_inmueble(ubicacion_interes, metros_interes, precio_metro_interes, data_inmuebles, matriz_similitud)\n",
        "print(recomendaciones)"
      ],
      "metadata": {
        "colab": {
          "base_uri": "https://localhost:8080/"
        },
        "id": "5JE1RlR_aZlC",
        "outputId": "c1b50ee5-a072-4e27-a7a4-9ecf53e94d0d"
      },
      "execution_count": 213,
      "outputs": [
        {
          "output_type": "stream",
          "name": "stdout",
          "text": [
            "Similitudes antes de filtrar: [1.         0.2        0.6        0.6        0.         0.\n",
            " 0.         0.         0.         0.         0.2        0.\n",
            " 0.         0.         0.         0.         0.         0.\n",
            " 0.         0.         0.         0.         0.         0.16903085\n",
            " 0.         0.         0.         0.         0.         0.\n",
            " 0.         0.         0.         0.         0.         0.\n",
            " 0.         0.         0.         0.         0.         0.\n",
            " 0.         0.         0.         0.         0.         0.\n",
            " 0.         0.         0.         0.         0.         0.\n",
            " 0.         0.         0.         0.         0.         0.\n",
            " 0.         0.         0.         0.         0.         0.\n",
            " 0.         0.         0.         0.         0.2        0.\n",
            " 0.         0.         0.         0.         0.         0.\n",
            " 0.         0.         0.         0.         0.2        0.\n",
            " 0.2        0.2        0.         0.         0.         0.\n",
            " 0.         0.         0.         0.         0.         0.\n",
            " 0.2        0.2        0.         0.         0.4        0.2\n",
            " 0.2        0.         0.2        0.2        0.         0.16903085\n",
            " 0.         0.2        0.         0.         0.2        0.\n",
            " 0.         0.         0.         0.         0.         0.\n",
            " 0.         0.         0.         0.         0.         0.16903085\n",
            " 0.         0.16903085 0.         0.         0.         0.\n",
            " 0.         0.         0.2        0.         0.         0.16903085\n",
            " 0.         0.16903085 0.         0.16903085 0.         0.16903085\n",
            " 0.         0.         0.16903085 0.         0.         0.\n",
            " 0.         0.2        0.         0.         0.2        0.2\n",
            " 0.         0.         0.2        0.         0.         0.2\n",
            " 0.         0.         0.         0.         0.         0.\n",
            " 0.         0.         0.4        0.         0.2        0.\n",
            " 0.2        0.         0.         0.2        0.         0.\n",
            " 0.2        0.         0.         0.         0.16903085 0.\n",
            " 0.         0.         0.         0.         0.         0.\n",
            " 0.         0.         0.2        0.        ]\n",
            "Similitudes después de filtrar por umbral: [(0, 0.9999999999999999), (1, 0.19999999999999998), (2, 0.6), (3, 0.6), (10, 0.19999999999999998), (23, 0.1690308509457033), (70, 0.19999999999999998), (82, 0.19999999999999998), (84, 0.19999999999999998), (85, 0.19999999999999998), (96, 0.19999999999999998), (97, 0.19999999999999998), (100, 0.39999999999999997), (101, 0.19999999999999998), (102, 0.19999999999999998), (104, 0.19999999999999998), (105, 0.19999999999999998), (107, 0.1690308509457033), (109, 0.19999999999999998), (112, 0.19999999999999998), (125, 0.1690308509457033), (127, 0.1690308509457033), (134, 0.19999999999999998), (137, 0.1690308509457033), (139, 0.1690308509457033), (141, 0.1690308509457033), (143, 0.1690308509457033), (146, 0.1690308509457033), (151, 0.19999999999999998), (154, 0.19999999999999998), (155, 0.19999999999999998), (158, 0.19999999999999998), (161, 0.19999999999999998), (170, 0.39999999999999997), (172, 0.19999999999999998), (174, 0.19999999999999998), (177, 0.19999999999999998), (180, 0.19999999999999998), (184, 0.1690308509457033), (194, 0.19999999999999998)]\n",
            "                 Ubicacion  Metros  Precio-Metro Ultima Actualizacion  \\\n",
            "0        alcala de henares      68         1.250            hoy 14:06   \n",
            "100      alcalá de henares     136         1.323            hoy 12:02   \n",
            "70      puente de vallecas     153         1.503            hoy 12:28   \n",
            "96   camarma de esteruelas     175         1.514            hoy 12:18   \n",
            "97       torrejón de ardoz     149         1.779            hoy 12:17   \n",
            "\n",
            "                descripcion_inmueble  \n",
            "0         alcala de henares 68 1.250  \n",
            "100      alcalá de henares 136 1.323  \n",
            "70      puente de vallecas 153 1.503  \n",
            "96   camarma de esteruelas 175 1.514  \n",
            "97       torrejón de ardoz 149 1.779  \n"
          ]
        }
      ]
    },
    {
      "cell_type": "code",
      "source": [
        "ubicacion_interes = 'alcala de henares'\n",
        "ubicacion_encontrada = data_inmuebles[data_inmuebles['Ubicacion'].str.lower() == ubicacion_interes.lower()]\n",
        "print(ubicacion_encontrada)\n",
        "\n",
        "# ubicacion_encontrada = data_inmuebles[data_inmuebles['Ubicacion'] == ubicacion_interes]\n",
        "print(ubicacion_encontrada)"
      ],
      "metadata": {
        "colab": {
          "base_uri": "https://localhost:8080/"
        },
        "id": "UzuVE43bagYi",
        "outputId": "44961e6c-5a63-4b9a-8a6f-b927878fca40"
      },
      "execution_count": 212,
      "outputs": [
        {
          "output_type": "stream",
          "name": "stdout",
          "text": [
            "           Ubicacion  Metros  Precio-Metro Ultima Actualizacion  \\\n",
            "0  alcala de henares      68         1.250            hoy 14:06   \n",
            "2  alcala de henares     275         1.600            hoy 13:56   \n",
            "3  alcala de henares     259         1.486            hoy 13:54   \n",
            "\n",
            "          descripcion_inmueble  \n",
            "0   alcala de henares 68 1.250  \n",
            "2  alcala de henares 275 1.600  \n",
            "3  alcala de henares 259 1.486  \n",
            "           Ubicacion  Metros  Precio-Metro Ultima Actualizacion  \\\n",
            "0  alcala de henares      68         1.250            hoy 14:06   \n",
            "2  alcala de henares     275         1.600            hoy 13:56   \n",
            "3  alcala de henares     259         1.486            hoy 13:54   \n",
            "\n",
            "          descripcion_inmueble  \n",
            "0   alcala de henares 68 1.250  \n",
            "2  alcala de henares 275 1.600  \n",
            "3  alcala de henares 259 1.486  \n"
          ]
        }
      ]
    },
    {
      "cell_type": "code",
      "source": [
        "print(data_inmuebles['Ubicacion'].unique())"
      ],
      "metadata": {
        "colab": {
          "base_uri": "https://localhost:8080/"
        },
        "id": "O2KKQak2b5nU",
        "outputId": "42e161ad-30c1-4103-afed-0f2822ee1831"
      },
      "execution_count": 155,
      "outputs": [
        {
          "output_type": "stream",
          "name": "stdout",
          "text": [
            "['alcala de henares' 'villa de vallecas' 'pueblo nuevo' 'salamanca'\n",
            " 'rivas-vaciamadrid' 'pavones' 'tetuán' 'torrejón de ardoz'\n",
            " 'sevilla la nueva' 'nuevo baztán' 'alcorcón' 'leganés' 'cerceda'\n",
            " 'boadilla del monte' 'san sebastián de los reyes' 'prosperidad'\n",
            " 'chamartín' 'ciudad lineal' 'ventas' 'goya' 'valdeolmos-alalpardo'\n",
            " 'hortaleza' 'latina' 'fuencarral' 'retiro' 'puente de vallecas'\n",
            " 'arganda del rey' 'moratalaz' 'fuenlabrada' 'ciudalcampo'\n",
            " 'camarma de esteruelas'\n",
            " 'loranca- nuevo versalles-parque miraflores (fuenlabrada)' 'aranjuez'\n",
            " 'alcalá de henares' 'centro de madrid' 'pozuelo de alarcón'\n",
            " 'fuente el saz de jarama' 'san agustín del guadalix' 'fuente del fresno'\n",
            " 'algete' 'carabanchel' 'el pinar, navalcarnero' 'valdetorres de jarama'\n",
            " 'móstoles' 'getafe' 'colmenar viejo' 'majadahonda' 'villa del prado'\n",
            " 'aldea del fresno' 'san isidro (getafe)' 'las rozas'\n",
            " 'san blás-canillejas' 'villa del pardo' 'galapagar']\n"
          ]
        }
      ]
    }
  ]
}